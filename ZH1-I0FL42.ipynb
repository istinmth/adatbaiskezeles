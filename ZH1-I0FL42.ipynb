{
    "metadata": {
        "kernelspec": {
            "name": "SQL",
            "display_name": "SQL",
            "language": "sql"
        },
        "language_info": {
            "name": "sql",
            "version": ""
        }
    },
    "nbformat_minor": 2,
    "nbformat": 4,
    "cells": [
        {
            "cell_type": "markdown",
            "source": [
                "1\\. Feladat"
            ],
            "metadata": {
                "azdata_cell_guid": "5589ee37-2b4f-4617-9e63-483f926d2e31"
            },
            "attachments": {}
        },
        {
            "cell_type": "code",
            "source": [
                "SELECT FOGLALAS_PK, METTOL, DATEADD(month, 1, METTOL) AS \"Módosított kezdődátum\"\r\n",
                "FROM Foglalas\r\n",
                "WHERE UGYFEL_FK = 'emese'"
            ],
            "metadata": {
                "azdata_cell_guid": "d8993044-ff7d-416d-9e6c-e890af2647f9",
                "language": "sql",
                "tags": []
            },
            "outputs": [
                {
                    "output_type": "display_data",
                    "data": {
                        "text/html": "(7 rows affected)"
                    },
                    "metadata": {}
                },
                {
                    "output_type": "display_data",
                    "data": {
                        "text/html": "Total execution time: 00:00:00.022"
                    },
                    "metadata": {}
                },
                {
                    "output_type": "execute_result",
                    "metadata": {},
                    "execution_count": 7,
                    "data": {
                        "application/vnd.dataresource+json": {
                            "schema": {
                                "fields": [
                                    {
                                        "name": "FOGLALAS_PK"
                                    },
                                    {
                                        "name": "METTOL"
                                    },
                                    {
                                        "name": "Módosított kezdődátum"
                                    }
                                ]
                            },
                            "data": [
                                {
                                    "FOGLALAS_PK": "706",
                                    "METTOL": "2016-07-22",
                                    "Módosított kezdődátum": "2016-08-22"
                                },
                                {
                                    "FOGLALAS_PK": "765",
                                    "METTOL": "2016-08-09",
                                    "Módosított kezdődátum": "2016-09-09"
                                },
                                {
                                    "FOGLALAS_PK": "1083",
                                    "METTOL": "2016-09-27",
                                    "Módosított kezdődátum": "2016-10-27"
                                },
                                {
                                    "FOGLALAS_PK": "1250",
                                    "METTOL": "2016-11-05",
                                    "Módosított kezdődátum": "2016-12-05"
                                },
                                {
                                    "FOGLALAS_PK": "1313",
                                    "METTOL": "2016-11-23",
                                    "Módosított kezdődátum": "2016-12-23"
                                },
                                {
                                    "FOGLALAS_PK": "1354",
                                    "METTOL": "2016-12-07",
                                    "Módosított kezdődátum": "2017-01-07"
                                },
                                {
                                    "FOGLALAS_PK": "1484",
                                    "METTOL": "2017-01-30",
                                    "Módosított kezdődátum": "2017-02-28"
                                }
                            ]
                        },
                        "text/html": [
                            "<table>",
                            "<tr><th>FOGLALAS_PK</th><th>METTOL</th><th>Módosított kezdődátum</th></tr>",
                            "<tr><td>706</td><td>2016-07-22</td><td>2016-08-22</td></tr>",
                            "<tr><td>765</td><td>2016-08-09</td><td>2016-09-09</td></tr>",
                            "<tr><td>1083</td><td>2016-09-27</td><td>2016-10-27</td></tr>",
                            "<tr><td>1250</td><td>2016-11-05</td><td>2016-12-05</td></tr>",
                            "<tr><td>1313</td><td>2016-11-23</td><td>2016-12-23</td></tr>",
                            "<tr><td>1354</td><td>2016-12-07</td><td>2017-01-07</td></tr>",
                            "<tr><td>1484</td><td>2017-01-30</td><td>2017-02-28</td></tr>",
                            "</table>"
                        ]
                    }
                }
            ],
            "execution_count": 7
        },
        {
            "cell_type": "markdown",
            "source": [
                "2\\. feladat"
            ],
            "metadata": {
                "azdata_cell_guid": "8e6481d5-f1b4-46fb-9396-d6249968a444"
            },
            "attachments": {}
        },
        {
            "cell_type": "code",
            "source": [
                "SELECT szh.SZALLAS_ID, szh.SZALLAS_NEV, Count(sz.klimas) AS 'Klimás szobák száma'\r\n",
                "FROM Szallashely szh JOIN Szoba sz ON szh.SZALLAS_ID = sz.SZALLAS_FK\r\n",
                "WHERE sz.klimas = 'i'\r\n",
                "GROUP BY szh.SZALLAS_ID, szh.SZALLAS_NEV\r\n",
                ""
            ],
            "metadata": {
                "azdata_cell_guid": "7925c681-e7de-427d-a502-28c80fc7fd7f",
                "language": "sql"
            },
            "outputs": [
                {
                    "output_type": "display_data",
                    "data": {
                        "text/html": "(20 rows affected)"
                    },
                    "metadata": {}
                },
                {
                    "output_type": "display_data",
                    "data": {
                        "text/html": "Total execution time: 00:00:00.014"
                    },
                    "metadata": {}
                },
                {
                    "output_type": "execute_result",
                    "metadata": {},
                    "execution_count": 18,
                    "data": {
                        "application/vnd.dataresource+json": {
                            "schema": {
                                "fields": [
                                    {
                                        "name": "SZALLAS_ID"
                                    },
                                    {
                                        "name": "SZALLAS_NEV"
                                    },
                                    {
                                        "name": "Klimás szobák száma"
                                    }
                                ]
                            },
                            "data": [
                                {
                                    "SZALLAS_ID": "1",
                                    "SZALLAS_NEV": "Sába-Ház",
                                    "Klimás szobák száma": "10"
                                },
                                {
                                    "SZALLAS_ID": "2",
                                    "SZALLAS_NEV": "Családi Ház",
                                    "Klimás szobák száma": "4"
                                },
                                {
                                    "SZALLAS_ID": "3",
                                    "SZALLAS_NEV": "Fortuna Apartman",
                                    "Klimás szobák száma": "5"
                                },
                                {
                                    "SZALLAS_ID": "4",
                                    "SZALLAS_NEV": "Fortuna panzió",
                                    "Klimás szobák száma": "12"
                                },
                                {
                                    "SZALLAS_ID": "5",
                                    "SZALLAS_NEV": "Fortuna Panzió",
                                    "Klimás szobák száma": "8"
                                },
                                {
                                    "SZALLAS_ID": "6",
                                    "SZALLAS_NEV": "Kentaur Hotel",
                                    "Klimás szobák száma": "22"
                                },
                                {
                                    "SZALLAS_ID": "7",
                                    "SZALLAS_NEV": "Szieszta Apartmanház",
                                    "Klimás szobák száma": "4"
                                },
                                {
                                    "SZALLAS_ID": "8",
                                    "SZALLAS_NEV": "Hotel Három Hattyú",
                                    "Klimás szobák száma": "28"
                                },
                                {
                                    "SZALLAS_ID": "9",
                                    "SZALLAS_NEV": "Jáde panzió",
                                    "Klimás szobák száma": "2"
                                },
                                {
                                    "SZALLAS_ID": "10",
                                    "SZALLAS_NEV": "Lagúna Hotel",
                                    "Klimás szobák száma": "15"
                                },
                                {
                                    "SZALLAS_ID": "11",
                                    "SZALLAS_NEV": "Partiszél Vendégház",
                                    "Klimás szobák száma": "4"
                                },
                                {
                                    "SZALLAS_ID": "12",
                                    "SZALLAS_NEV": "Gold Hotel",
                                    "Klimás szobák száma": "42"
                                },
                                {
                                    "SZALLAS_ID": "13",
                                    "SZALLAS_NEV": "Riviéra Panzió",
                                    "Klimás szobák száma": "8"
                                },
                                {
                                    "SZALLAS_ID": "14",
                                    "SZALLAS_NEV": "Nyárfás Vendégház",
                                    "Klimás szobák száma": "4"
                                },
                                {
                                    "SZALLAS_ID": "15",
                                    "SZALLAS_NEV": "Tímárház Panzió",
                                    "Klimás szobák száma": "9"
                                },
                                {
                                    "SZALLAS_ID": "16",
                                    "SZALLAS_NEV": "Bagoly Hotel",
                                    "Klimás szobák száma": "14"
                                },
                                {
                                    "SZALLAS_ID": "17",
                                    "SZALLAS_NEV": "Szarvas Hotel",
                                    "Klimás szobák száma": "11"
                                },
                                {
                                    "SZALLAS_ID": "18",
                                    "SZALLAS_NEV": "Fortuna Apartman",
                                    "Klimás szobák száma": "2"
                                },
                                {
                                    "SZALLAS_ID": "19",
                                    "SZALLAS_NEV": "Nyárfás Vendégház",
                                    "Klimás szobák száma": "2"
                                },
                                {
                                    "SZALLAS_ID": "20",
                                    "SZALLAS_NEV": "Kollégium",
                                    "Klimás szobák száma": "9"
                                }
                            ]
                        },
                        "text/html": [
                            "<table>",
                            "<tr><th>SZALLAS_ID</th><th>SZALLAS_NEV</th><th>Klimás szobák száma</th></tr>",
                            "<tr><td>1</td><td>Sába-Ház</td><td>10</td></tr>",
                            "<tr><td>2</td><td>Családi Ház</td><td>4</td></tr>",
                            "<tr><td>3</td><td>Fortuna Apartman</td><td>5</td></tr>",
                            "<tr><td>4</td><td>Fortuna panzió</td><td>12</td></tr>",
                            "<tr><td>5</td><td>Fortuna Panzió</td><td>8</td></tr>",
                            "<tr><td>6</td><td>Kentaur Hotel</td><td>22</td></tr>",
                            "<tr><td>7</td><td>Szieszta Apartmanház</td><td>4</td></tr>",
                            "<tr><td>8</td><td>Hotel Három Hattyú</td><td>28</td></tr>",
                            "<tr><td>9</td><td>Jáde panzió</td><td>2</td></tr>",
                            "<tr><td>10</td><td>Lagúna Hotel</td><td>15</td></tr>",
                            "<tr><td>11</td><td>Partiszél Vendégház</td><td>4</td></tr>",
                            "<tr><td>12</td><td>Gold Hotel</td><td>42</td></tr>",
                            "<tr><td>13</td><td>Riviéra Panzió</td><td>8</td></tr>",
                            "<tr><td>14</td><td>Nyárfás Vendégház</td><td>4</td></tr>",
                            "<tr><td>15</td><td>Tímárház Panzió</td><td>9</td></tr>",
                            "<tr><td>16</td><td>Bagoly Hotel</td><td>14</td></tr>",
                            "<tr><td>17</td><td>Szarvas Hotel</td><td>11</td></tr>",
                            "<tr><td>18</td><td>Fortuna Apartman</td><td>2</td></tr>",
                            "<tr><td>19</td><td>Nyárfás Vendégház</td><td>2</td></tr>",
                            "<tr><td>20</td><td>Kollégium</td><td>9</td></tr>",
                            "</table>"
                        ]
                    }
                }
            ],
            "execution_count": 18
        },
        {
            "cell_type": "markdown",
            "source": [
                "3\\. feladat"
            ],
            "metadata": {
                "azdata_cell_guid": "bf5dada3-7cd2-4d82-a693-a9f18d6b9d29"
            },
            "attachments": {}
        },
        {
            "cell_type": "code",
            "source": [
                "SELECT DISTINCT szh.SZALLAS_NEV AS 'Szálláshely neve', sz.*,\r\n",
                "    CASE \r\n",
                "    WHEN szh.tipus = 'panzio' THEN 'Igen'\r\n",
                "    ELSE 'Nem'\r\n",
                "END AS 'Panzió-e?'\r\n",
                "FROM szoba sz\r\n",
                "    LEFT JOIN foglalas f on sz.SZOBA_ID = f.SZOBA_FK\r\n",
                "    JOIN szallashely szh on sz.szallas_fk = szh.szallas_id\r\n",
                "WHERE f.SZOBA_FK IS NULL;\r\n",
                ""
            ],
            "metadata": {
                "azdata_cell_guid": "0b0fc7df-99eb-4170-951b-78393c207cc8",
                "language": "sql"
            },
            "outputs": [
                {
                    "output_type": "display_data",
                    "data": {
                        "text/html": "(97 rows affected)"
                    },
                    "metadata": {}
                },
                {
                    "output_type": "display_data",
                    "data": {
                        "text/html": "Total execution time: 00:00:00.017"
                    },
                    "metadata": {}
                },
                {
                    "output_type": "execute_result",
                    "metadata": {},
                    "execution_count": 30,
                    "data": {
                        "application/vnd.dataresource+json": {
                            "schema": {
                                "fields": [
                                    {
                                        "name": "Szálláshely neve"
                                    },
                                    {
                                        "name": "SZOBA_ID"
                                    },
                                    {
                                        "name": "SZOBA_SZAMA"
                                    },
                                    {
                                        "name": "FEROHELY"
                                    },
                                    {
                                        "name": "POTAGY"
                                    },
                                    {
                                        "name": "KLIMAS"
                                    },
                                    {
                                        "name": "SZALLAS_FK"
                                    },
                                    {
                                        "name": "Panzió-e?"
                                    }
                                ]
                            },
                            "data": [
                                {
                                    "Szálláshely neve": "Bagoly Hotel",
                                    "SZOBA_ID": "243",
                                    "SZOBA_SZAMA": "1",
                                    "FEROHELY": "2",
                                    "POTAGY": "0",
                                    "KLIMAS": "i",
                                    "SZALLAS_FK": "16",
                                    "Panzió-e?": "Nem"
                                },
                                {
                                    "Szálláshely neve": "Bagoly Hotel",
                                    "SZOBA_ID": "244",
                                    "SZOBA_SZAMA": "2",
                                    "FEROHELY": "2",
                                    "POTAGY": "1",
                                    "KLIMAS": "i",
                                    "SZALLAS_FK": "16",
                                    "Panzió-e?": "Nem"
                                },
                                {
                                    "Szálláshely neve": "Bagoly Hotel",
                                    "SZOBA_ID": "245",
                                    "SZOBA_SZAMA": "3",
                                    "FEROHELY": "2",
                                    "POTAGY": "1",
                                    "KLIMAS": "i",
                                    "SZALLAS_FK": "16",
                                    "Panzió-e?": "Nem"
                                },
                                {
                                    "Szálláshely neve": "Bagoly Hotel",
                                    "SZOBA_ID": "246",
                                    "SZOBA_SZAMA": "4",
                                    "FEROHELY": "2",
                                    "POTAGY": "0",
                                    "KLIMAS": "i",
                                    "SZALLAS_FK": "16",
                                    "Panzió-e?": "Nem"
                                },
                                {
                                    "Szálláshely neve": "Bagoly Hotel",
                                    "SZOBA_ID": "247",
                                    "SZOBA_SZAMA": "5",
                                    "FEROHELY": "2",
                                    "POTAGY": "0",
                                    "KLIMAS": "i",
                                    "SZALLAS_FK": "16",
                                    "Panzió-e?": "Nem"
                                },
                                {
                                    "Szálláshely neve": "Bagoly Hotel",
                                    "SZOBA_ID": "248",
                                    "SZOBA_SZAMA": "6",
                                    "FEROHELY": "2",
                                    "POTAGY": "2",
                                    "KLIMAS": "i",
                                    "SZALLAS_FK": "16",
                                    "Panzió-e?": "Nem"
                                },
                                {
                                    "Szálláshely neve": "Bagoly Hotel",
                                    "SZOBA_ID": "249",
                                    "SZOBA_SZAMA": "7",
                                    "FEROHELY": "2",
                                    "POTAGY": "1",
                                    "KLIMAS": "n",
                                    "SZALLAS_FK": "16",
                                    "Panzió-e?": "Nem"
                                },
                                {
                                    "Szálláshely neve": "Bagoly Hotel",
                                    "SZOBA_ID": "250",
                                    "SZOBA_SZAMA": "8",
                                    "FEROHELY": "3",
                                    "POTAGY": "1",
                                    "KLIMAS": "n",
                                    "SZALLAS_FK": "16",
                                    "Panzió-e?": "Nem"
                                },
                                {
                                    "Szálláshely neve": "Bagoly Hotel",
                                    "SZOBA_ID": "251",
                                    "SZOBA_SZAMA": "9",
                                    "FEROHELY": "3",
                                    "POTAGY": "0",
                                    "KLIMAS": "n",
                                    "SZALLAS_FK": "16",
                                    "Panzió-e?": "Nem"
                                },
                                {
                                    "Szálláshely neve": "Bagoly Hotel",
                                    "SZOBA_ID": "252",
                                    "SZOBA_SZAMA": "10",
                                    "FEROHELY": "3",
                                    "POTAGY": "1",
                                    "KLIMAS": "i",
                                    "SZALLAS_FK": "16",
                                    "Panzió-e?": "Nem"
                                },
                                {
                                    "Szálláshely neve": "Bagoly Hotel",
                                    "SZOBA_ID": "253",
                                    "SZOBA_SZAMA": "11",
                                    "FEROHELY": "2",
                                    "POTAGY": "0",
                                    "KLIMAS": "i",
                                    "SZALLAS_FK": "16",
                                    "Panzió-e?": "Nem"
                                },
                                {
                                    "Szálláshely neve": "Bagoly Hotel",
                                    "SZOBA_ID": "254",
                                    "SZOBA_SZAMA": "12",
                                    "FEROHELY": "2",
                                    "POTAGY": "0",
                                    "KLIMAS": "i",
                                    "SZALLAS_FK": "16",
                                    "Panzió-e?": "Nem"
                                },
                                {
                                    "Szálláshely neve": "Bagoly Hotel",
                                    "SZOBA_ID": "255",
                                    "SZOBA_SZAMA": "13",
                                    "FEROHELY": "3",
                                    "POTAGY": "0",
                                    "KLIMAS": "n",
                                    "SZALLAS_FK": "16",
                                    "Panzió-e?": "Nem"
                                },
                                {
                                    "Szálláshely neve": "Bagoly Hotel",
                                    "SZOBA_ID": "256",
                                    "SZOBA_SZAMA": "14",
                                    "FEROHELY": "3",
                                    "POTAGY": "1",
                                    "KLIMAS": "i",
                                    "SZALLAS_FK": "16",
                                    "Panzió-e?": "Nem"
                                },
                                {
                                    "Szálláshely neve": "Bagoly Hotel",
                                    "SZOBA_ID": "257",
                                    "SZOBA_SZAMA": "15",
                                    "FEROHELY": "2",
                                    "POTAGY": "0",
                                    "KLIMAS": "i",
                                    "SZALLAS_FK": "16",
                                    "Panzió-e?": "Nem"
                                },
                                {
                                    "Szálláshely neve": "Bagoly Hotel",
                                    "SZOBA_ID": "258",
                                    "SZOBA_SZAMA": "16",
                                    "FEROHELY": "2",
                                    "POTAGY": "0",
                                    "KLIMAS": "i",
                                    "SZALLAS_FK": "16",
                                    "Panzió-e?": "Nem"
                                },
                                {
                                    "Szálláshely neve": "Bagoly Hotel",
                                    "SZOBA_ID": "259",
                                    "SZOBA_SZAMA": "17",
                                    "FEROHELY": "2",
                                    "POTAGY": "0",
                                    "KLIMAS": "i",
                                    "SZALLAS_FK": "16",
                                    "Panzió-e?": "Nem"
                                },
                                {
                                    "Szálláshely neve": "Bagoly Hotel",
                                    "SZOBA_ID": "260",
                                    "SZOBA_SZAMA": "18",
                                    "FEROHELY": "2",
                                    "POTAGY": "0",
                                    "KLIMAS": "i",
                                    "SZALLAS_FK": "16",
                                    "Panzió-e?": "Nem"
                                },
                                {
                                    "Szálláshely neve": "Bagoly Hotel",
                                    "SZOBA_ID": "261",
                                    "SZOBA_SZAMA": "19",
                                    "FEROHELY": "1",
                                    "POTAGY": "1",
                                    "KLIMAS": "n",
                                    "SZALLAS_FK": "16",
                                    "Panzió-e?": "Nem"
                                },
                                {
                                    "Szálláshely neve": "Bagoly Hotel",
                                    "SZOBA_ID": "262",
                                    "SZOBA_SZAMA": "20",
                                    "FEROHELY": "1",
                                    "POTAGY": "0",
                                    "KLIMAS": "n",
                                    "SZALLAS_FK": "16",
                                    "Panzió-e?": "Nem"
                                },
                                {
                                    "Szálláshely neve": "Fortuna Apartman",
                                    "SZOBA_ID": "278",
                                    "SZOBA_SZAMA": "1",
                                    "FEROHELY": "3",
                                    "POTAGY": "1",
                                    "KLIMAS": "i",
                                    "SZALLAS_FK": "18",
                                    "Panzió-e?": "Nem"
                                },
                                {
                                    "Szálláshely neve": "Fortuna Apartman",
                                    "SZOBA_ID": "279",
                                    "SZOBA_SZAMA": "2",
                                    "FEROHELY": "2",
                                    "POTAGY": "1",
                                    "KLIMAS": "i",
                                    "SZALLAS_FK": "18",
                                    "Panzió-e?": "Nem"
                                },
                                {
                                    "Szálláshely neve": "Fortuna Apartman",
                                    "SZOBA_ID": "280",
                                    "SZOBA_SZAMA": "3",
                                    "FEROHELY": "3",
                                    "POTAGY": "0",
                                    "KLIMAS": "n",
                                    "SZALLAS_FK": "18",
                                    "Panzió-e?": "Nem"
                                },
                                {
                                    "Szálláshely neve": "Gold Hotel",
                                    "SZOBA_ID": "199",
                                    "SZOBA_SZAMA": "35",
                                    "FEROHELY": "3",
                                    "POTAGY": "2",
                                    "KLIMAS": "i",
                                    "SZALLAS_FK": "12",
                                    "Panzió-e?": "Nem"
                                },
                                {
                                    "Szálláshely neve": "Gold Hotel",
                                    "SZOBA_ID": "200",
                                    "SZOBA_SZAMA": "36",
                                    "FEROHELY": "2",
                                    "POTAGY": "0",
                                    "KLIMAS": "i",
                                    "SZALLAS_FK": "12",
                                    "Panzió-e?": "Nem"
                                },
                                {
                                    "Szálláshely neve": "Gold Hotel",
                                    "SZOBA_ID": "201",
                                    "SZOBA_SZAMA": "37",
                                    "FEROHELY": "3",
                                    "POTAGY": "1",
                                    "KLIMAS": "n",
                                    "SZALLAS_FK": "12",
                                    "Panzió-e?": "Nem"
                                },
                                {
                                    "Szálláshely neve": "Gold Hotel",
                                    "SZOBA_ID": "202",
                                    "SZOBA_SZAMA": "38",
                                    "FEROHELY": "3",
                                    "POTAGY": "1",
                                    "KLIMAS": "i",
                                    "SZALLAS_FK": "12",
                                    "Panzió-e?": "Nem"
                                },
                                {
                                    "Szálláshely neve": "Gold Hotel",
                                    "SZOBA_ID": "203",
                                    "SZOBA_SZAMA": "39",
                                    "FEROHELY": "3",
                                    "POTAGY": "0",
                                    "KLIMAS": "i",
                                    "SZALLAS_FK": "12",
                                    "Panzió-e?": "Nem"
                                },
                                {
                                    "Szálláshely neve": "Gold Hotel",
                                    "SZOBA_ID": "204",
                                    "SZOBA_SZAMA": "40",
                                    "FEROHELY": "3",
                                    "POTAGY": "1",
                                    "KLIMAS": "i",
                                    "SZALLAS_FK": "12",
                                    "Panzió-e?": "Nem"
                                },
                                {
                                    "Szálláshely neve": "Gold Hotel",
                                    "SZOBA_ID": "205",
                                    "SZOBA_SZAMA": "41",
                                    "FEROHELY": "3",
                                    "POTAGY": "0",
                                    "KLIMAS": "i",
                                    "SZALLAS_FK": "12",
                                    "Panzió-e?": "Nem"
                                },
                                {
                                    "Szálláshely neve": "Gold Hotel",
                                    "SZOBA_ID": "206",
                                    "SZOBA_SZAMA": "42",
                                    "FEROHELY": "2",
                                    "POTAGY": "1",
                                    "KLIMAS": "i",
                                    "SZALLAS_FK": "12",
                                    "Panzió-e?": "Nem"
                                },
                                {
                                    "Szálláshely neve": "Gold Hotel",
                                    "SZOBA_ID": "207",
                                    "SZOBA_SZAMA": "43",
                                    "FEROHELY": "2",
                                    "POTAGY": "1",
                                    "KLIMAS": "i",
                                    "SZALLAS_FK": "12",
                                    "Panzió-e?": "Nem"
                                },
                                {
                                    "Szálláshely neve": "Gold Hotel",
                                    "SZOBA_ID": "208",
                                    "SZOBA_SZAMA": "44",
                                    "FEROHELY": "2",
                                    "POTAGY": "1",
                                    "KLIMAS": "i",
                                    "SZALLAS_FK": "12",
                                    "Panzió-e?": "Nem"
                                },
                                {
                                    "Szálláshely neve": "Gold Hotel",
                                    "SZOBA_ID": "209",
                                    "SZOBA_SZAMA": "45",
                                    "FEROHELY": "3",
                                    "POTAGY": "2",
                                    "KLIMAS": "n",
                                    "SZALLAS_FK": "12",
                                    "Panzió-e?": "Nem"
                                },
                                {
                                    "Szálláshely neve": "Gold Hotel",
                                    "SZOBA_ID": "210",
                                    "SZOBA_SZAMA": "46",
                                    "FEROHELY": "2",
                                    "POTAGY": "0",
                                    "KLIMAS": "i",
                                    "SZALLAS_FK": "12",
                                    "Panzió-e?": "Nem"
                                },
                                {
                                    "Szálláshely neve": "Gold Hotel",
                                    "SZOBA_ID": "211",
                                    "SZOBA_SZAMA": "47",
                                    "FEROHELY": "2",
                                    "POTAGY": "1",
                                    "KLIMAS": "i",
                                    "SZALLAS_FK": "12",
                                    "Panzió-e?": "Nem"
                                },
                                {
                                    "Szálláshely neve": "Gold Hotel",
                                    "SZOBA_ID": "212",
                                    "SZOBA_SZAMA": "48",
                                    "FEROHELY": "3",
                                    "POTAGY": "0",
                                    "KLIMAS": "n",
                                    "SZALLAS_FK": "12",
                                    "Panzió-e?": "Nem"
                                },
                                {
                                    "Szálláshely neve": "Gold Hotel",
                                    "SZOBA_ID": "213",
                                    "SZOBA_SZAMA": "49",
                                    "FEROHELY": "3",
                                    "POTAGY": "0",
                                    "KLIMAS": "i",
                                    "SZALLAS_FK": "12",
                                    "Panzió-e?": "Nem"
                                },
                                {
                                    "Szálláshely neve": "Gold Hotel",
                                    "SZOBA_ID": "214",
                                    "SZOBA_SZAMA": "50",
                                    "FEROHELY": "3",
                                    "POTAGY": "1",
                                    "KLIMAS": "i",
                                    "SZALLAS_FK": "12",
                                    "Panzió-e?": "Nem"
                                },
                                {
                                    "Szálláshely neve": "Kollégium",
                                    "SZOBA_ID": "285",
                                    "SZOBA_SZAMA": "1",
                                    "FEROHELY": "2",
                                    "POTAGY": "1",
                                    "KLIMAS": "i",
                                    "SZALLAS_FK": "20",
                                    "Panzió-e?": "Nem"
                                },
                                {
                                    "Szálláshely neve": "Kollégium",
                                    "SZOBA_ID": "286",
                                    "SZOBA_SZAMA": "2",
                                    "FEROHELY": "3",
                                    "POTAGY": "0",
                                    "KLIMAS": "i",
                                    "SZALLAS_FK": "20",
                                    "Panzió-e?": "Nem"
                                },
                                {
                                    "Szálláshely neve": "Kollégium",
                                    "SZOBA_ID": "287",
                                    "SZOBA_SZAMA": "3",
                                    "FEROHELY": "3",
                                    "POTAGY": "0",
                                    "KLIMAS": "n",
                                    "SZALLAS_FK": "20",
                                    "Panzió-e?": "Nem"
                                },
                                {
                                    "Szálláshely neve": "Kollégium",
                                    "SZOBA_ID": "288",
                                    "SZOBA_SZAMA": "4",
                                    "FEROHELY": "2",
                                    "POTAGY": "1",
                                    "KLIMAS": "i",
                                    "SZALLAS_FK": "20",
                                    "Panzió-e?": "Nem"
                                },
                                {
                                    "Szálláshely neve": "Kollégium",
                                    "SZOBA_ID": "289",
                                    "SZOBA_SZAMA": "5",
                                    "FEROHELY": "3",
                                    "POTAGY": "0",
                                    "KLIMAS": "i",
                                    "SZALLAS_FK": "20",
                                    "Panzió-e?": "Nem"
                                },
                                {
                                    "Szálláshely neve": "Kollégium",
                                    "SZOBA_ID": "290",
                                    "SZOBA_SZAMA": "6",
                                    "FEROHELY": "2",
                                    "POTAGY": "1",
                                    "KLIMAS": "i",
                                    "SZALLAS_FK": "20",
                                    "Panzió-e?": "Nem"
                                },
                                {
                                    "Szálláshely neve": "Kollégium",
                                    "SZOBA_ID": "291",
                                    "SZOBA_SZAMA": "7",
                                    "FEROHELY": "2",
                                    "POTAGY": "1",
                                    "KLIMAS": "i",
                                    "SZALLAS_FK": "20",
                                    "Panzió-e?": "Nem"
                                },
                                {
                                    "Szálláshely neve": "Kollégium",
                                    "SZOBA_ID": "292",
                                    "SZOBA_SZAMA": "8",
                                    "FEROHELY": "2",
                                    "POTAGY": "1",
                                    "KLIMAS": "i",
                                    "SZALLAS_FK": "20",
                                    "Panzió-e?": "Nem"
                                },
                                {
                                    "Szálláshely neve": "Kollégium",
                                    "SZOBA_ID": "293",
                                    "SZOBA_SZAMA": "9",
                                    "FEROHELY": "2",
                                    "POTAGY": "1",
                                    "KLIMAS": "i",
                                    "SZALLAS_FK": "20",
                                    "Panzió-e?": "Nem"
                                },
                                {
                                    "Szálláshely neve": "Kollégium",
                                    "SZOBA_ID": "294",
                                    "SZOBA_SZAMA": "10",
                                    "FEROHELY": "3",
                                    "POTAGY": "0",
                                    "KLIMAS": "i",
                                    "SZALLAS_FK": "20",
                                    "Panzió-e?": "Nem"
                                },
                                {
                                    "Szálláshely neve": "Lagúna Hotel",
                                    "SZOBA_ID": "159",
                                    "SZOBA_SZAMA": "25",
                                    "FEROHELY": "3",
                                    "POTAGY": "1",
                                    "KLIMAS": "n",
                                    "SZALLAS_FK": "10",
                                    "Panzió-e?": "Nem"
                                },
                                {
                                    "Szálláshely neve": "Nyárfás Vendégház",
                                    "SZOBA_ID": "227",
                                    "SZOBA_SZAMA": "1",
                                    "FEROHELY": "2",
                                    "POTAGY": "1",
                                    "KLIMAS": "i",
                                    "SZALLAS_FK": "14",
                                    "Panzió-e?": "Nem"
                                },
                                {
                                    "Szálláshely neve": "Nyárfás Vendégház",
                                    "SZOBA_ID": "228",
                                    "SZOBA_SZAMA": "2",
                                    "FEROHELY": "3",
                                    "POTAGY": "0",
                                    "KLIMAS": "i",
                                    "SZALLAS_FK": "14",
                                    "Panzió-e?": "Nem"
                                },
                                {
                                    "Szálláshely neve": "Nyárfás Vendégház",
                                    "SZOBA_ID": "229",
                                    "SZOBA_SZAMA": "3",
                                    "FEROHELY": "2",
                                    "POTAGY": "0",
                                    "KLIMAS": "i",
                                    "SZALLAS_FK": "14",
                                    "Panzió-e?": "Nem"
                                },
                                {
                                    "Szálláshely neve": "Nyárfás Vendégház",
                                    "SZOBA_ID": "230",
                                    "SZOBA_SZAMA": "4",
                                    "FEROHELY": "3",
                                    "POTAGY": "2",
                                    "KLIMAS": "i",
                                    "SZALLAS_FK": "14",
                                    "Panzió-e?": "Nem"
                                },
                                {
                                    "Szálláshely neve": "Nyárfás Vendégház",
                                    "SZOBA_ID": "281",
                                    "SZOBA_SZAMA": "1",
                                    "FEROHELY": "2",
                                    "POTAGY": "0",
                                    "KLIMAS": "n",
                                    "SZALLAS_FK": "19",
                                    "Panzió-e?": "Nem"
                                },
                                {
                                    "Szálláshely neve": "Nyárfás Vendégház",
                                    "SZOBA_ID": "282",
                                    "SZOBA_SZAMA": "2",
                                    "FEROHELY": "2",
                                    "POTAGY": "0",
                                    "KLIMAS": "i",
                                    "SZALLAS_FK": "19",
                                    "Panzió-e?": "Nem"
                                },
                                {
                                    "Szálláshely neve": "Nyárfás Vendégház",
                                    "SZOBA_ID": "283",
                                    "SZOBA_SZAMA": "3",
                                    "FEROHELY": "2",
                                    "POTAGY": "0",
                                    "KLIMAS": "n",
                                    "SZALLAS_FK": "19",
                                    "Panzió-e?": "Nem"
                                },
                                {
                                    "Szálláshely neve": "Nyárfás Vendégház",
                                    "SZOBA_ID": "284",
                                    "SZOBA_SZAMA": "4",
                                    "FEROHELY": "2",
                                    "POTAGY": "2",
                                    "KLIMAS": "i",
                                    "SZALLAS_FK": "19",
                                    "Panzió-e?": "Nem"
                                },
                                {
                                    "Szálláshely neve": "Riviéra Panzió",
                                    "SZOBA_ID": "215",
                                    "SZOBA_SZAMA": "1",
                                    "FEROHELY": "2",
                                    "POTAGY": "1",
                                    "KLIMAS": "i",
                                    "SZALLAS_FK": "13",
                                    "Panzió-e?": "Nem"
                                },
                                {
                                    "Szálláshely neve": "Riviéra Panzió",
                                    "SZOBA_ID": "216",
                                    "SZOBA_SZAMA": "2",
                                    "FEROHELY": "3",
                                    "POTAGY": "1",
                                    "KLIMAS": "i",
                                    "SZALLAS_FK": "13",
                                    "Panzió-e?": "Nem"
                                },
                                {
                                    "Szálláshely neve": "Riviéra Panzió",
                                    "SZOBA_ID": "217",
                                    "SZOBA_SZAMA": "3",
                                    "FEROHELY": "2",
                                    "POTAGY": "1",
                                    "KLIMAS": "n",
                                    "SZALLAS_FK": "13",
                                    "Panzió-e?": "Nem"
                                },
                                {
                                    "Szálláshely neve": "Riviéra Panzió",
                                    "SZOBA_ID": "218",
                                    "SZOBA_SZAMA": "4",
                                    "FEROHELY": "3",
                                    "POTAGY": "0",
                                    "KLIMAS": "i",
                                    "SZALLAS_FK": "13",
                                    "Panzió-e?": "Nem"
                                },
                                {
                                    "Szálláshely neve": "Riviéra Panzió",
                                    "SZOBA_ID": "219",
                                    "SZOBA_SZAMA": "5",
                                    "FEROHELY": "2",
                                    "POTAGY": "0",
                                    "KLIMAS": "n",
                                    "SZALLAS_FK": "13",
                                    "Panzió-e?": "Nem"
                                },
                                {
                                    "Szálláshely neve": "Riviéra Panzió",
                                    "SZOBA_ID": "220",
                                    "SZOBA_SZAMA": "6",
                                    "FEROHELY": "3",
                                    "POTAGY": "0",
                                    "KLIMAS": "i",
                                    "SZALLAS_FK": "13",
                                    "Panzió-e?": "Nem"
                                },
                                {
                                    "Szálláshely neve": "Riviéra Panzió",
                                    "SZOBA_ID": "221",
                                    "SZOBA_SZAMA": "7",
                                    "FEROHELY": "3",
                                    "POTAGY": "0",
                                    "KLIMAS": "i",
                                    "SZALLAS_FK": "13",
                                    "Panzió-e?": "Nem"
                                },
                                {
                                    "Szálláshely neve": "Riviéra Panzió",
                                    "SZOBA_ID": "222",
                                    "SZOBA_SZAMA": "8",
                                    "FEROHELY": "2",
                                    "POTAGY": "0",
                                    "KLIMAS": "n",
                                    "SZALLAS_FK": "13",
                                    "Panzió-e?": "Nem"
                                },
                                {
                                    "Szálláshely neve": "Riviéra Panzió",
                                    "SZOBA_ID": "223",
                                    "SZOBA_SZAMA": "9",
                                    "FEROHELY": "2",
                                    "POTAGY": "1",
                                    "KLIMAS": "i",
                                    "SZALLAS_FK": "13",
                                    "Panzió-e?": "Nem"
                                },
                                {
                                    "Szálláshely neve": "Riviéra Panzió",
                                    "SZOBA_ID": "224",
                                    "SZOBA_SZAMA": "10",
                                    "FEROHELY": "2",
                                    "POTAGY": "0",
                                    "KLIMAS": "i",
                                    "SZALLAS_FK": "13",
                                    "Panzió-e?": "Nem"
                                },
                                {
                                    "Szálláshely neve": "Riviéra Panzió",
                                    "SZOBA_ID": "225",
                                    "SZOBA_SZAMA": "11",
                                    "FEROHELY": "2",
                                    "POTAGY": "1",
                                    "KLIMAS": "i",
                                    "SZALLAS_FK": "13",
                                    "Panzió-e?": "Nem"
                                },
                                {
                                    "Szálláshely neve": "Riviéra Panzió",
                                    "SZOBA_ID": "226",
                                    "SZOBA_SZAMA": "12",
                                    "FEROHELY": "3",
                                    "POTAGY": "1",
                                    "KLIMAS": "n",
                                    "SZALLAS_FK": "13",
                                    "Panzió-e?": "Nem"
                                },
                                {
                                    "Szálláshely neve": "Szarvas Hotel",
                                    "SZOBA_ID": "263",
                                    "SZOBA_SZAMA": "1",
                                    "FEROHELY": "2",
                                    "POTAGY": "2",
                                    "KLIMAS": "i",
                                    "SZALLAS_FK": "17",
                                    "Panzió-e?": "Nem"
                                },
                                {
                                    "Szálláshely neve": "Szarvas Hotel",
                                    "SZOBA_ID": "264",
                                    "SZOBA_SZAMA": "2",
                                    "FEROHELY": "3",
                                    "POTAGY": "0",
                                    "KLIMAS": "i",
                                    "SZALLAS_FK": "17",
                                    "Panzió-e?": "Nem"
                                },
                                {
                                    "Szálláshely neve": "Szarvas Hotel",
                                    "SZOBA_ID": "265",
                                    "SZOBA_SZAMA": "3",
                                    "FEROHELY": "3",
                                    "POTAGY": "0",
                                    "KLIMAS": "i",
                                    "SZALLAS_FK": "17",
                                    "Panzió-e?": "Nem"
                                },
                                {
                                    "Szálláshely neve": "Szarvas Hotel",
                                    "SZOBA_ID": "266",
                                    "SZOBA_SZAMA": "4",
                                    "FEROHELY": "2",
                                    "POTAGY": "1",
                                    "KLIMAS": "i",
                                    "SZALLAS_FK": "17",
                                    "Panzió-e?": "Nem"
                                },
                                {
                                    "Szálláshely neve": "Szarvas Hotel",
                                    "SZOBA_ID": "267",
                                    "SZOBA_SZAMA": "5",
                                    "FEROHELY": "2",
                                    "POTAGY": "1",
                                    "KLIMAS": "n",
                                    "SZALLAS_FK": "17",
                                    "Panzió-e?": "Nem"
                                },
                                {
                                    "Szálláshely neve": "Szarvas Hotel",
                                    "SZOBA_ID": "268",
                                    "SZOBA_SZAMA": "6",
                                    "FEROHELY": "2",
                                    "POTAGY": "2",
                                    "KLIMAS": "n",
                                    "SZALLAS_FK": "17",
                                    "Panzió-e?": "Nem"
                                },
                                {
                                    "Szálláshely neve": "Szarvas Hotel",
                                    "SZOBA_ID": "269",
                                    "SZOBA_SZAMA": "7",
                                    "FEROHELY": "2",
                                    "POTAGY": "1",
                                    "KLIMAS": "i",
                                    "SZALLAS_FK": "17",
                                    "Panzió-e?": "Nem"
                                },
                                {
                                    "Szálláshely neve": "Szarvas Hotel",
                                    "SZOBA_ID": "270",
                                    "SZOBA_SZAMA": "8",
                                    "FEROHELY": "3",
                                    "POTAGY": "0",
                                    "KLIMAS": "n",
                                    "SZALLAS_FK": "17",
                                    "Panzió-e?": "Nem"
                                },
                                {
                                    "Szálláshely neve": "Szarvas Hotel",
                                    "SZOBA_ID": "271",
                                    "SZOBA_SZAMA": "9",
                                    "FEROHELY": "3",
                                    "POTAGY": "0",
                                    "KLIMAS": "i",
                                    "SZALLAS_FK": "17",
                                    "Panzió-e?": "Nem"
                                },
                                {
                                    "Szálláshely neve": "Szarvas Hotel",
                                    "SZOBA_ID": "272",
                                    "SZOBA_SZAMA": "10",
                                    "FEROHELY": "3",
                                    "POTAGY": "0",
                                    "KLIMAS": "i",
                                    "SZALLAS_FK": "17",
                                    "Panzió-e?": "Nem"
                                },
                                {
                                    "Szálláshely neve": "Szarvas Hotel",
                                    "SZOBA_ID": "273",
                                    "SZOBA_SZAMA": "11",
                                    "FEROHELY": "2",
                                    "POTAGY": "1",
                                    "KLIMAS": "i",
                                    "SZALLAS_FK": "17",
                                    "Panzió-e?": "Nem"
                                },
                                {
                                    "Szálláshely neve": "Szarvas Hotel",
                                    "SZOBA_ID": "274",
                                    "SZOBA_SZAMA": "12",
                                    "FEROHELY": "3",
                                    "POTAGY": "1",
                                    "KLIMAS": "i",
                                    "SZALLAS_FK": "17",
                                    "Panzió-e?": "Nem"
                                },
                                {
                                    "Szálláshely neve": "Szarvas Hotel",
                                    "SZOBA_ID": "275",
                                    "SZOBA_SZAMA": "13",
                                    "FEROHELY": "2",
                                    "POTAGY": "1",
                                    "KLIMAS": "n",
                                    "SZALLAS_FK": "17",
                                    "Panzió-e?": "Nem"
                                },
                                {
                                    "Szálláshely neve": "Szarvas Hotel",
                                    "SZOBA_ID": "276",
                                    "SZOBA_SZAMA": "14",
                                    "FEROHELY": "2",
                                    "POTAGY": "0",
                                    "KLIMAS": "i",
                                    "SZALLAS_FK": "17",
                                    "Panzió-e?": "Nem"
                                },
                                {
                                    "Szálláshely neve": "Szarvas Hotel",
                                    "SZOBA_ID": "277",
                                    "SZOBA_SZAMA": "15",
                                    "FEROHELY": "2",
                                    "POTAGY": "0",
                                    "KLIMAS": "i",
                                    "SZALLAS_FK": "17",
                                    "Panzió-e?": "Nem"
                                },
                                {
                                    "Szálláshely neve": "Tímárház Panzió",
                                    "SZOBA_ID": "231",
                                    "SZOBA_SZAMA": "1",
                                    "FEROHELY": "2",
                                    "POTAGY": "0",
                                    "KLIMAS": "i",
                                    "SZALLAS_FK": "15",
                                    "Panzió-e?": "Nem"
                                },
                                {
                                    "Szálláshely neve": "Tímárház Panzió",
                                    "SZOBA_ID": "232",
                                    "SZOBA_SZAMA": "2",
                                    "FEROHELY": "2",
                                    "POTAGY": "0",
                                    "KLIMAS": "i",
                                    "SZALLAS_FK": "15",
                                    "Panzió-e?": "Nem"
                                },
                                {
                                    "Szálláshely neve": "Tímárház Panzió",
                                    "SZOBA_ID": "233",
                                    "SZOBA_SZAMA": "3",
                                    "FEROHELY": "3",
                                    "POTAGY": "0",
                                    "KLIMAS": "n",
                                    "SZALLAS_FK": "15",
                                    "Panzió-e?": "Nem"
                                },
                                {
                                    "Szálláshely neve": "Tímárház Panzió",
                                    "SZOBA_ID": "234",
                                    "SZOBA_SZAMA": "4",
                                    "FEROHELY": "3",
                                    "POTAGY": "1",
                                    "KLIMAS": "i",
                                    "SZALLAS_FK": "15",
                                    "Panzió-e?": "Nem"
                                },
                                {
                                    "Szálláshely neve": "Tímárház Panzió",
                                    "SZOBA_ID": "235",
                                    "SZOBA_SZAMA": "5",
                                    "FEROHELY": "3",
                                    "POTAGY": "0",
                                    "KLIMAS": "i",
                                    "SZALLAS_FK": "15",
                                    "Panzió-e?": "Nem"
                                },
                                {
                                    "Szálláshely neve": "Tímárház Panzió",
                                    "SZOBA_ID": "236",
                                    "SZOBA_SZAMA": "6",
                                    "FEROHELY": "3",
                                    "POTAGY": "1",
                                    "KLIMAS": "n",
                                    "SZALLAS_FK": "15",
                                    "Panzió-e?": "Nem"
                                },
                                {
                                    "Szálláshely neve": "Tímárház Panzió",
                                    "SZOBA_ID": "237",
                                    "SZOBA_SZAMA": "7",
                                    "FEROHELY": "2",
                                    "POTAGY": "2",
                                    "KLIMAS": "n",
                                    "SZALLAS_FK": "15",
                                    "Panzió-e?": "Nem"
                                },
                                {
                                    "Szálláshely neve": "Tímárház Panzió",
                                    "SZOBA_ID": "238",
                                    "SZOBA_SZAMA": "8",
                                    "FEROHELY": "3",
                                    "POTAGY": "1",
                                    "KLIMAS": "i",
                                    "SZALLAS_FK": "15",
                                    "Panzió-e?": "Nem"
                                },
                                {
                                    "Szálláshely neve": "Tímárház Panzió",
                                    "SZOBA_ID": "239",
                                    "SZOBA_SZAMA": "9",
                                    "FEROHELY": "2",
                                    "POTAGY": "2",
                                    "KLIMAS": "i",
                                    "SZALLAS_FK": "15",
                                    "Panzió-e?": "Nem"
                                },
                                {
                                    "Szálláshely neve": "Tímárház Panzió",
                                    "SZOBA_ID": "240",
                                    "SZOBA_SZAMA": "10",
                                    "FEROHELY": "3",
                                    "POTAGY": "0",
                                    "KLIMAS": "i",
                                    "SZALLAS_FK": "15",
                                    "Panzió-e?": "Nem"
                                },
                                {
                                    "Szálláshely neve": "Tímárház Panzió",
                                    "SZOBA_ID": "241",
                                    "SZOBA_SZAMA": "11",
                                    "FEROHELY": "2",
                                    "POTAGY": "0",
                                    "KLIMAS": "i",
                                    "SZALLAS_FK": "15",
                                    "Panzió-e?": "Nem"
                                },
                                {
                                    "Szálláshely neve": "Tímárház Panzió",
                                    "SZOBA_ID": "242",
                                    "SZOBA_SZAMA": "12",
                                    "FEROHELY": "2",
                                    "POTAGY": "1",
                                    "KLIMAS": "i",
                                    "SZALLAS_FK": "15",
                                    "Panzió-e?": "Nem"
                                }
                            ]
                        },
                        "text/html": [
                            "<table>",
                            "<tr><th>Szálláshely neve</th><th>SZOBA_ID</th><th>SZOBA_SZAMA</th><th>FEROHELY</th><th>POTAGY</th><th>KLIMAS</th><th>SZALLAS_FK</th><th>Panzió-e?</th></tr>",
                            "<tr><td>Bagoly Hotel</td><td>243</td><td>1</td><td>2</td><td>0</td><td>i</td><td>16</td><td>Nem</td></tr>",
                            "<tr><td>Bagoly Hotel</td><td>244</td><td>2</td><td>2</td><td>1</td><td>i</td><td>16</td><td>Nem</td></tr>",
                            "<tr><td>Bagoly Hotel</td><td>245</td><td>3</td><td>2</td><td>1</td><td>i</td><td>16</td><td>Nem</td></tr>",
                            "<tr><td>Bagoly Hotel</td><td>246</td><td>4</td><td>2</td><td>0</td><td>i</td><td>16</td><td>Nem</td></tr>",
                            "<tr><td>Bagoly Hotel</td><td>247</td><td>5</td><td>2</td><td>0</td><td>i</td><td>16</td><td>Nem</td></tr>",
                            "<tr><td>Bagoly Hotel</td><td>248</td><td>6</td><td>2</td><td>2</td><td>i</td><td>16</td><td>Nem</td></tr>",
                            "<tr><td>Bagoly Hotel</td><td>249</td><td>7</td><td>2</td><td>1</td><td>n</td><td>16</td><td>Nem</td></tr>",
                            "<tr><td>Bagoly Hotel</td><td>250</td><td>8</td><td>3</td><td>1</td><td>n</td><td>16</td><td>Nem</td></tr>",
                            "<tr><td>Bagoly Hotel</td><td>251</td><td>9</td><td>3</td><td>0</td><td>n</td><td>16</td><td>Nem</td></tr>",
                            "<tr><td>Bagoly Hotel</td><td>252</td><td>10</td><td>3</td><td>1</td><td>i</td><td>16</td><td>Nem</td></tr>",
                            "<tr><td>Bagoly Hotel</td><td>253</td><td>11</td><td>2</td><td>0</td><td>i</td><td>16</td><td>Nem</td></tr>",
                            "<tr><td>Bagoly Hotel</td><td>254</td><td>12</td><td>2</td><td>0</td><td>i</td><td>16</td><td>Nem</td></tr>",
                            "<tr><td>Bagoly Hotel</td><td>255</td><td>13</td><td>3</td><td>0</td><td>n</td><td>16</td><td>Nem</td></tr>",
                            "<tr><td>Bagoly Hotel</td><td>256</td><td>14</td><td>3</td><td>1</td><td>i</td><td>16</td><td>Nem</td></tr>",
                            "<tr><td>Bagoly Hotel</td><td>257</td><td>15</td><td>2</td><td>0</td><td>i</td><td>16</td><td>Nem</td></tr>",
                            "<tr><td>Bagoly Hotel</td><td>258</td><td>16</td><td>2</td><td>0</td><td>i</td><td>16</td><td>Nem</td></tr>",
                            "<tr><td>Bagoly Hotel</td><td>259</td><td>17</td><td>2</td><td>0</td><td>i</td><td>16</td><td>Nem</td></tr>",
                            "<tr><td>Bagoly Hotel</td><td>260</td><td>18</td><td>2</td><td>0</td><td>i</td><td>16</td><td>Nem</td></tr>",
                            "<tr><td>Bagoly Hotel</td><td>261</td><td>19</td><td>1</td><td>1</td><td>n</td><td>16</td><td>Nem</td></tr>",
                            "<tr><td>Bagoly Hotel</td><td>262</td><td>20</td><td>1</td><td>0</td><td>n</td><td>16</td><td>Nem</td></tr>",
                            "<tr><td>Fortuna Apartman</td><td>278</td><td>1</td><td>3</td><td>1</td><td>i</td><td>18</td><td>Nem</td></tr>",
                            "<tr><td>Fortuna Apartman</td><td>279</td><td>2</td><td>2</td><td>1</td><td>i</td><td>18</td><td>Nem</td></tr>",
                            "<tr><td>Fortuna Apartman</td><td>280</td><td>3</td><td>3</td><td>0</td><td>n</td><td>18</td><td>Nem</td></tr>",
                            "<tr><td>Gold Hotel</td><td>199</td><td>35</td><td>3</td><td>2</td><td>i</td><td>12</td><td>Nem</td></tr>",
                            "<tr><td>Gold Hotel</td><td>200</td><td>36</td><td>2</td><td>0</td><td>i</td><td>12</td><td>Nem</td></tr>",
                            "<tr><td>Gold Hotel</td><td>201</td><td>37</td><td>3</td><td>1</td><td>n</td><td>12</td><td>Nem</td></tr>",
                            "<tr><td>Gold Hotel</td><td>202</td><td>38</td><td>3</td><td>1</td><td>i</td><td>12</td><td>Nem</td></tr>",
                            "<tr><td>Gold Hotel</td><td>203</td><td>39</td><td>3</td><td>0</td><td>i</td><td>12</td><td>Nem</td></tr>",
                            "<tr><td>Gold Hotel</td><td>204</td><td>40</td><td>3</td><td>1</td><td>i</td><td>12</td><td>Nem</td></tr>",
                            "<tr><td>Gold Hotel</td><td>205</td><td>41</td><td>3</td><td>0</td><td>i</td><td>12</td><td>Nem</td></tr>",
                            "<tr><td>Gold Hotel</td><td>206</td><td>42</td><td>2</td><td>1</td><td>i</td><td>12</td><td>Nem</td></tr>",
                            "<tr><td>Gold Hotel</td><td>207</td><td>43</td><td>2</td><td>1</td><td>i</td><td>12</td><td>Nem</td></tr>",
                            "<tr><td>Gold Hotel</td><td>208</td><td>44</td><td>2</td><td>1</td><td>i</td><td>12</td><td>Nem</td></tr>",
                            "<tr><td>Gold Hotel</td><td>209</td><td>45</td><td>3</td><td>2</td><td>n</td><td>12</td><td>Nem</td></tr>",
                            "<tr><td>Gold Hotel</td><td>210</td><td>46</td><td>2</td><td>0</td><td>i</td><td>12</td><td>Nem</td></tr>",
                            "<tr><td>Gold Hotel</td><td>211</td><td>47</td><td>2</td><td>1</td><td>i</td><td>12</td><td>Nem</td></tr>",
                            "<tr><td>Gold Hotel</td><td>212</td><td>48</td><td>3</td><td>0</td><td>n</td><td>12</td><td>Nem</td></tr>",
                            "<tr><td>Gold Hotel</td><td>213</td><td>49</td><td>3</td><td>0</td><td>i</td><td>12</td><td>Nem</td></tr>",
                            "<tr><td>Gold Hotel</td><td>214</td><td>50</td><td>3</td><td>1</td><td>i</td><td>12</td><td>Nem</td></tr>",
                            "<tr><td>Kollégium</td><td>285</td><td>1</td><td>2</td><td>1</td><td>i</td><td>20</td><td>Nem</td></tr>",
                            "<tr><td>Kollégium</td><td>286</td><td>2</td><td>3</td><td>0</td><td>i</td><td>20</td><td>Nem</td></tr>",
                            "<tr><td>Kollégium</td><td>287</td><td>3</td><td>3</td><td>0</td><td>n</td><td>20</td><td>Nem</td></tr>",
                            "<tr><td>Kollégium</td><td>288</td><td>4</td><td>2</td><td>1</td><td>i</td><td>20</td><td>Nem</td></tr>",
                            "<tr><td>Kollégium</td><td>289</td><td>5</td><td>3</td><td>0</td><td>i</td><td>20</td><td>Nem</td></tr>",
                            "<tr><td>Kollégium</td><td>290</td><td>6</td><td>2</td><td>1</td><td>i</td><td>20</td><td>Nem</td></tr>",
                            "<tr><td>Kollégium</td><td>291</td><td>7</td><td>2</td><td>1</td><td>i</td><td>20</td><td>Nem</td></tr>",
                            "<tr><td>Kollégium</td><td>292</td><td>8</td><td>2</td><td>1</td><td>i</td><td>20</td><td>Nem</td></tr>",
                            "<tr><td>Kollégium</td><td>293</td><td>9</td><td>2</td><td>1</td><td>i</td><td>20</td><td>Nem</td></tr>",
                            "<tr><td>Kollégium</td><td>294</td><td>10</td><td>3</td><td>0</td><td>i</td><td>20</td><td>Nem</td></tr>",
                            "<tr><td>Lagúna Hotel</td><td>159</td><td>25</td><td>3</td><td>1</td><td>n</td><td>10</td><td>Nem</td></tr>",
                            "<tr><td>Nyárfás Vendégház</td><td>227</td><td>1</td><td>2</td><td>1</td><td>i</td><td>14</td><td>Nem</td></tr>",
                            "<tr><td>Nyárfás Vendégház</td><td>228</td><td>2</td><td>3</td><td>0</td><td>i</td><td>14</td><td>Nem</td></tr>",
                            "<tr><td>Nyárfás Vendégház</td><td>229</td><td>3</td><td>2</td><td>0</td><td>i</td><td>14</td><td>Nem</td></tr>",
                            "<tr><td>Nyárfás Vendégház</td><td>230</td><td>4</td><td>3</td><td>2</td><td>i</td><td>14</td><td>Nem</td></tr>",
                            "<tr><td>Nyárfás Vendégház</td><td>281</td><td>1</td><td>2</td><td>0</td><td>n</td><td>19</td><td>Nem</td></tr>",
                            "<tr><td>Nyárfás Vendégház</td><td>282</td><td>2</td><td>2</td><td>0</td><td>i</td><td>19</td><td>Nem</td></tr>",
                            "<tr><td>Nyárfás Vendégház</td><td>283</td><td>3</td><td>2</td><td>0</td><td>n</td><td>19</td><td>Nem</td></tr>",
                            "<tr><td>Nyárfás Vendégház</td><td>284</td><td>4</td><td>2</td><td>2</td><td>i</td><td>19</td><td>Nem</td></tr>",
                            "<tr><td>Riviéra Panzió</td><td>215</td><td>1</td><td>2</td><td>1</td><td>i</td><td>13</td><td>Nem</td></tr>",
                            "<tr><td>Riviéra Panzió</td><td>216</td><td>2</td><td>3</td><td>1</td><td>i</td><td>13</td><td>Nem</td></tr>",
                            "<tr><td>Riviéra Panzió</td><td>217</td><td>3</td><td>2</td><td>1</td><td>n</td><td>13</td><td>Nem</td></tr>",
                            "<tr><td>Riviéra Panzió</td><td>218</td><td>4</td><td>3</td><td>0</td><td>i</td><td>13</td><td>Nem</td></tr>",
                            "<tr><td>Riviéra Panzió</td><td>219</td><td>5</td><td>2</td><td>0</td><td>n</td><td>13</td><td>Nem</td></tr>",
                            "<tr><td>Riviéra Panzió</td><td>220</td><td>6</td><td>3</td><td>0</td><td>i</td><td>13</td><td>Nem</td></tr>",
                            "<tr><td>Riviéra Panzió</td><td>221</td><td>7</td><td>3</td><td>0</td><td>i</td><td>13</td><td>Nem</td></tr>",
                            "<tr><td>Riviéra Panzió</td><td>222</td><td>8</td><td>2</td><td>0</td><td>n</td><td>13</td><td>Nem</td></tr>",
                            "<tr><td>Riviéra Panzió</td><td>223</td><td>9</td><td>2</td><td>1</td><td>i</td><td>13</td><td>Nem</td></tr>",
                            "<tr><td>Riviéra Panzió</td><td>224</td><td>10</td><td>2</td><td>0</td><td>i</td><td>13</td><td>Nem</td></tr>",
                            "<tr><td>Riviéra Panzió</td><td>225</td><td>11</td><td>2</td><td>1</td><td>i</td><td>13</td><td>Nem</td></tr>",
                            "<tr><td>Riviéra Panzió</td><td>226</td><td>12</td><td>3</td><td>1</td><td>n</td><td>13</td><td>Nem</td></tr>",
                            "<tr><td>Szarvas Hotel</td><td>263</td><td>1</td><td>2</td><td>2</td><td>i</td><td>17</td><td>Nem</td></tr>",
                            "<tr><td>Szarvas Hotel</td><td>264</td><td>2</td><td>3</td><td>0</td><td>i</td><td>17</td><td>Nem</td></tr>",
                            "<tr><td>Szarvas Hotel</td><td>265</td><td>3</td><td>3</td><td>0</td><td>i</td><td>17</td><td>Nem</td></tr>",
                            "<tr><td>Szarvas Hotel</td><td>266</td><td>4</td><td>2</td><td>1</td><td>i</td><td>17</td><td>Nem</td></tr>",
                            "<tr><td>Szarvas Hotel</td><td>267</td><td>5</td><td>2</td><td>1</td><td>n</td><td>17</td><td>Nem</td></tr>",
                            "<tr><td>Szarvas Hotel</td><td>268</td><td>6</td><td>2</td><td>2</td><td>n</td><td>17</td><td>Nem</td></tr>",
                            "<tr><td>Szarvas Hotel</td><td>269</td><td>7</td><td>2</td><td>1</td><td>i</td><td>17</td><td>Nem</td></tr>",
                            "<tr><td>Szarvas Hotel</td><td>270</td><td>8</td><td>3</td><td>0</td><td>n</td><td>17</td><td>Nem</td></tr>",
                            "<tr><td>Szarvas Hotel</td><td>271</td><td>9</td><td>3</td><td>0</td><td>i</td><td>17</td><td>Nem</td></tr>",
                            "<tr><td>Szarvas Hotel</td><td>272</td><td>10</td><td>3</td><td>0</td><td>i</td><td>17</td><td>Nem</td></tr>",
                            "<tr><td>Szarvas Hotel</td><td>273</td><td>11</td><td>2</td><td>1</td><td>i</td><td>17</td><td>Nem</td></tr>",
                            "<tr><td>Szarvas Hotel</td><td>274</td><td>12</td><td>3</td><td>1</td><td>i</td><td>17</td><td>Nem</td></tr>",
                            "<tr><td>Szarvas Hotel</td><td>275</td><td>13</td><td>2</td><td>1</td><td>n</td><td>17</td><td>Nem</td></tr>",
                            "<tr><td>Szarvas Hotel</td><td>276</td><td>14</td><td>2</td><td>0</td><td>i</td><td>17</td><td>Nem</td></tr>",
                            "<tr><td>Szarvas Hotel</td><td>277</td><td>15</td><td>2</td><td>0</td><td>i</td><td>17</td><td>Nem</td></tr>",
                            "<tr><td>Tímárház Panzió</td><td>231</td><td>1</td><td>2</td><td>0</td><td>i</td><td>15</td><td>Nem</td></tr>",
                            "<tr><td>Tímárház Panzió</td><td>232</td><td>2</td><td>2</td><td>0</td><td>i</td><td>15</td><td>Nem</td></tr>",
                            "<tr><td>Tímárház Panzió</td><td>233</td><td>3</td><td>3</td><td>0</td><td>n</td><td>15</td><td>Nem</td></tr>",
                            "<tr><td>Tímárház Panzió</td><td>234</td><td>4</td><td>3</td><td>1</td><td>i</td><td>15</td><td>Nem</td></tr>",
                            "<tr><td>Tímárház Panzió</td><td>235</td><td>5</td><td>3</td><td>0</td><td>i</td><td>15</td><td>Nem</td></tr>",
                            "<tr><td>Tímárház Panzió</td><td>236</td><td>6</td><td>3</td><td>1</td><td>n</td><td>15</td><td>Nem</td></tr>",
                            "<tr><td>Tímárház Panzió</td><td>237</td><td>7</td><td>2</td><td>2</td><td>n</td><td>15</td><td>Nem</td></tr>",
                            "<tr><td>Tímárház Panzió</td><td>238</td><td>8</td><td>3</td><td>1</td><td>i</td><td>15</td><td>Nem</td></tr>",
                            "<tr><td>Tímárház Panzió</td><td>239</td><td>9</td><td>2</td><td>2</td><td>i</td><td>15</td><td>Nem</td></tr>",
                            "<tr><td>Tímárház Panzió</td><td>240</td><td>10</td><td>3</td><td>0</td><td>i</td><td>15</td><td>Nem</td></tr>",
                            "<tr><td>Tímárház Panzió</td><td>241</td><td>11</td><td>2</td><td>0</td><td>i</td><td>15</td><td>Nem</td></tr>",
                            "<tr><td>Tímárház Panzió</td><td>242</td><td>12</td><td>2</td><td>1</td><td>i</td><td>15</td><td>Nem</td></tr>",
                            "</table>"
                        ]
                    }
                }
            ],
            "execution_count": 30
        }
    ]
}