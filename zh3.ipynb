{
    "metadata": {
        "kernelspec": {
            "name": "SQL",
            "display_name": "SQL",
            "language": "sql"
        },
        "language_info": {
            "name": "sql",
            "version": ""
        }
    },
    "nbformat_minor": 2,
    "nbformat": 4,
    "cells": [
        {
            "cell_type": "code",
            "source": [
                "A MongoDB Atlas-ban (vagy a Compass-ban) navigáljon a sample_mflix adatbázishoz, és kérdezze le a movies gyűjteményt az alábbiak szerint:\r\n",
                "\r\n",
                "Az országok közül a legelső \"USA\" legyen ÉS\r\n",
                "Az imdb.rating értéke legalább 5 legyen\r\n",
                "Csak a filmek címe, az ország és a rating érték jelenjenek meg\r\n",
                "Rendezzük sorba a filmeket rating szerint csökkenően\r\n",
                "Beadandó: a Filter, Project és a Sort részbe írt kódok"
            ],
            "metadata": {
                "azdata_cell_guid": "b707e281-1ba8-4933-8013-5a9235e37c10",
                "language": "sql"
            },
            "outputs": [],
            "execution_count": null
        },
        {
            "cell_type": "code",
            "source": [
                "// Filter\r\n",
                "\r\n",
                "{\r\n",
                "\r\n",
                "  \"countries.0\": \"USA\",\r\n",
                "\r\n",
                "  \"imdb.rating\": { \"$gte\": 5 }\r\n",
                "\r\n",
                "}\r\n",
                "\r\n",
                "\r\n",
                "\r\n",
                "// Project\r\n",
                "\r\n",
                "{\r\n",
                "\r\n",
                "  \"_id\": 0,\r\n",
                "\r\n",
                "  \"title\": 1,\r\n",
                "\r\n",
                "  \"countries\": 1,\r\n",
                "\r\n",
                "  \"imdb.rating\": 1\r\n",
                "\r\n",
                "}\r\n",
                "\r\n",
                "\r\n",
                "\r\n",
                "// Sort\r\n",
                "\r\n",
                "{\r\n",
                "\r\n",
                "  \"imdb.rating\": -1\r\n",
                "\r\n",
                "}"
            ],
            "metadata": {
                "language": "sql",
                "azdata_cell_guid": "064cd494-2d11-477d-b175-da043951e2f1"
            },
            "outputs": [],
            "execution_count": null
        },
        {
            "cell_type": "markdown",
            "source": [
                "A MongoDB shell-ben csatlakozzon a sample\\_mflix adatbázishoz, és kérdezze le a users gyűjteményt az alábbiak szerint:\n",
                "\n",
                "- <span style=\"box-sizing: border-box; user-select: initial !important; font-size: 0.9375rem;\">Csak a felhasználók neve és email címe jelenjen meg</span>\n",
                "- Az email cím tartalmazza a .com karaktersorozatot.\n",
                "\n",
                "Beadandó: a megfelelő utasítás"
            ],
            "metadata": {
                "language": "sql",
                "azdata_cell_guid": "10ba4a7a-c0ac-4c0c-89a3-213f08bc57cb"
            },
            "attachments": {}
        },
        {
            "cell_type": "code",
            "source": [
                "db.users.find(\r\n",
                "\r\n",
                "  { \"email\": { \"$regex\": \".com\" } },\r\n",
                "\r\n",
                "  { \"_id\": 0, \"name\": 1, \"email\": 1 }\r\n",
                "\r\n",
                ")"
            ],
            "metadata": {
                "language": "sql",
                "azdata_cell_guid": "5389afe9-8baf-4512-bfaa-6a739976176c"
            },
            "outputs": [],
            "execution_count": null
        },
        {
            "cell_type": "markdown",
            "source": [
                "A MongoDB shell-ben csatlakozzon a sample\\_mflix adatbázishoz, és kérdezze le a movies gyűjteményt az alábbiak szerint:\n",
                "\n",
                "<span style=\"box-sizing: border-box; user-select: initial !important; font-size: 0.9375rem;\">A lekérdezés feleljen meg a következő SQL lekérdezésnek:</span>\n",
                "\n",
                "<span style=\"box-sizing: border-box; color: rgb(0, 0, 0); font-family: &quot;Open Sans&quot;, sans-serif; background-color: rgb(255, 255, 255); font-size: 0.9375rem; user-select: initial !important;\">SELECT rated, AVG(runtime)<br style=\"box-sizing: border-box; user-select: initial !important;\">FROM movies<br style=\"box-sizing: border-box; user-select: initial !important;\"></span><span style=\"color: rgb(0, 0, 0); font-family: &quot;Open Sans&quot;, sans-serif; font-size: 14.44px; background-color: rgb(255, 255, 255);\">WHERE year &gt; 1950</span>  \n",
                "<span style=\"box-sizing: border-box; color: rgb(0, 0, 0); font-family: &quot;Open Sans&quot;, sans-serif; background-color: rgb(255, 255, 255); font-size: 0.9375rem; user-select: initial !important;\">GROUP BY rated</span>  \n",
                "\n",
                "  \n",
                "\n",
                "Beadandó a lekérdező utasítás"
            ],
            "metadata": {
                "language": "sql",
                "azdata_cell_guid": "81627917-680c-4b88-815a-83bc67dd59f7"
            },
            "attachments": {}
        },
        {
            "cell_type": "code",
            "source": [
                "db.movies.aggregate([\r\n",
                "\r\n",
                "  { $match: { year: { $gt: 1950 } } },\r\n",
                "\r\n",
                "  { $group: { _id: \"$rated\", avgRuntime: { $avg: \"$runtime\" } } }\r\n",
                "\r\n",
                "])"
            ],
            "metadata": {
                "language": "sql",
                "azdata_cell_guid": "13d8ab96-1c78-4e53-ada8-81879903189f"
            },
            "outputs": [],
            "execution_count": null
        },
        {
            "cell_type": "markdown",
            "source": [
                "Csatlakozzon a Movies adatbázishoz a Neo4J Sandbox-ban (vagy a Desktop-ban), és kérdezze le a következőket:\n",
                "\n",
                "- Listázzuk a filmek szereplőit\n",
                "- A szereplő neve, a film címe és a film megjelenés éve jelenjen meg\n",
                "- Szűrjünk az 1960 utáni évekre\n",
                "- Nevezzük el a megjelenített mezőket\n",
                "- Rendezzük sorba az eredményt évszám szerint csökkenően\n",
                "\n",
                "Beadandó: a megfelelő utasítás"
            ],
            "metadata": {
                "azdata_cell_guid": "33161abb-3f27-404d-bd49-838ad37ee337"
            },
            "attachments": {}
        },
        {
            "cell_type": "code",
            "source": [
                "MATCH (a:Person)-[:ACTED_IN]->(m:Movie)\r\n",
                "WHERE m.released > 1960\r\n",
                "RETURN a.name AS Szereplő_neve, m.title AS Film_címe, m.released AS Megjelenés_éve\r\n",
                "ORDER BY m.released DESC"
            ],
            "metadata": {
                "azdata_cell_guid": "d28de3ca-5dfe-4be5-b540-bdf886a2dc8c",
                "language": "sql"
            },
            "outputs": [],
            "execution_count": null
        },
        {
            "cell_type": "markdown",
            "source": [
                "A neo4j Sandbox-ban (vagy a Desktop-ban) csatlakozzon a Movies adatbázishoz, és kérdezze le a következő SQL-lekérdezésnek megfelelő adatokat:\n",
                "\n",
                "SELECT TOP 5  p.name AS Director, COUNT(\\*) AS NumMoviesDirected\n",
                "\n",
                "FROM movies m <span style=\"box-sizing: border-box; user-select: initial !important; font-size: 0.9375rem;\">JOIN person p ON m.directorId = p.personId</span>\n",
                "\n",
                "GROUP BY p.name\n",
                "\n",
                "ORDER BY NumMoviesDirected DESC"
            ],
            "metadata": {
                "azdata_cell_guid": "351a4fbd-5f51-4703-98a7-921bf7246880"
            },
            "attachments": {}
        },
        {
            "cell_type": "code",
            "source": [
                "MATCH (d:Person)-[:DIRECTED]->(m:Movie)\r\n",
                "RETURN d.name AS Director, COUNT(*) AS NumMoviesDirected\r\n",
                "ORDER BY NumMoviesDirected DESC\r\n",
                "LIMIT 5"
            ],
            "metadata": {
                "azdata_cell_guid": "1eec9f8c-eb67-4500-b2a3-76e4b2d19639",
                "language": "sql"
            },
            "outputs": [],
            "execution_count": null
        }
    ]
}