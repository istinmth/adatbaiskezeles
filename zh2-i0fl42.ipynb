{
    "metadata": {
        "kernelspec": {
            "name": "SQL",
            "display_name": "SQL",
            "language": "sql"
        },
        "language_info": {
            "name": "sql",
            "version": ""
        }
    },
    "nbformat_minor": 2,
    "nbformat": 4,
    "cells": [
        {
            "cell_type": "markdown",
            "source": [
                "Készítsen lekérdezést, amely megjeleníti, hogy szobánként (SZOBA\\_FK) hány olyan foglalás történt, ahol a felnőttek száma nagyobb volt a gyermekek számánál!\n",
                "\n",
                "a. A lekérdezés jelenítse meg a végösszeget is megfelelően jelölve!"
            ],
            "metadata": {
                "azdata_cell_guid": "7daa96f9-1588-433b-bab0-a0a50f89af03"
            },
            "attachments": {}
        },
        {
            "cell_type": "code",
            "source": [
                "SELECT \r\n",
                "  CASE \r\n",
                "    WHEN GROUPING(f.SZOBA_FK) = 1 THEN 'Összesen:'\r\n",
                "    ELSE CAST(f.SZOBA_FK AS VARCHAR)\r\n",
                "  END AS SZOBA_FK,\r\n",
                "  COUNT(*) AS FoglalasokSzama\r\n",
                "FROM Foglalas f\r\n",
                "WHERE f.FELNOTT_SZAM > f.GYERMEK_SZAM\r\n",
                "GROUP BY f.SZOBA_FK WITH ROLLUP;\r\n",
                ""
            ],
            "metadata": {
                "azdata_cell_guid": "bee186ec-cae9-41a8-b557-f2749f472107",
                "language": "sql"
            },
            "outputs": [
                {
                    "output_type": "display_data",
                    "data": {
                        "text/html": "(190 rows affected)"
                    },
                    "metadata": {}
                },
                {
                    "output_type": "display_data",
                    "data": {
                        "text/html": "Total execution time: 00:00:00.010"
                    },
                    "metadata": {}
                },
                {
                    "output_type": "execute_result",
                    "metadata": {},
                    "execution_count": 10,
                    "data": {
                        "application/vnd.dataresource+json": {
                            "schema": {
                                "fields": [
                                    {
                                        "name": "SZOBA_FK"
                                    },
                                    {
                                        "name": "FoglalasokSzama"
                                    }
                                ]
                            },
                            "data": [
                                {
                                    "SZOBA_FK": "1",
                                    "FoglalasokSzama": "7"
                                },
                                {
                                    "SZOBA_FK": "2",
                                    "FoglalasokSzama": "2"
                                },
                                {
                                    "SZOBA_FK": "3",
                                    "FoglalasokSzama": "3"
                                },
                                {
                                    "SZOBA_FK": "4",
                                    "FoglalasokSzama": "5"
                                },
                                {
                                    "SZOBA_FK": "5",
                                    "FoglalasokSzama": "2"
                                },
                                {
                                    "SZOBA_FK": "6",
                                    "FoglalasokSzama": "5"
                                },
                                {
                                    "SZOBA_FK": "7",
                                    "FoglalasokSzama": "6"
                                },
                                {
                                    "SZOBA_FK": "8",
                                    "FoglalasokSzama": "5"
                                },
                                {
                                    "SZOBA_FK": "9",
                                    "FoglalasokSzama": "4"
                                },
                                {
                                    "SZOBA_FK": "10",
                                    "FoglalasokSzama": "4"
                                },
                                {
                                    "SZOBA_FK": "11",
                                    "FoglalasokSzama": "4"
                                },
                                {
                                    "SZOBA_FK": "12",
                                    "FoglalasokSzama": "7"
                                },
                                {
                                    "SZOBA_FK": "13",
                                    "FoglalasokSzama": "4"
                                },
                                {
                                    "SZOBA_FK": "14",
                                    "FoglalasokSzama": "3"
                                },
                                {
                                    "SZOBA_FK": "15",
                                    "FoglalasokSzama": "4"
                                },
                                {
                                    "SZOBA_FK": "16",
                                    "FoglalasokSzama": "1"
                                },
                                {
                                    "SZOBA_FK": "17",
                                    "FoglalasokSzama": "2"
                                },
                                {
                                    "SZOBA_FK": "18",
                                    "FoglalasokSzama": "3"
                                },
                                {
                                    "SZOBA_FK": "19",
                                    "FoglalasokSzama": "4"
                                },
                                {
                                    "SZOBA_FK": "20",
                                    "FoglalasokSzama": "5"
                                },
                                {
                                    "SZOBA_FK": "21",
                                    "FoglalasokSzama": "1"
                                },
                                {
                                    "SZOBA_FK": "22",
                                    "FoglalasokSzama": "2"
                                },
                                {
                                    "SZOBA_FK": "23",
                                    "FoglalasokSzama": "3"
                                },
                                {
                                    "SZOBA_FK": "24",
                                    "FoglalasokSzama": "3"
                                },
                                {
                                    "SZOBA_FK": "25",
                                    "FoglalasokSzama": "1"
                                },
                                {
                                    "SZOBA_FK": "27",
                                    "FoglalasokSzama": "5"
                                },
                                {
                                    "SZOBA_FK": "28",
                                    "FoglalasokSzama": "5"
                                },
                                {
                                    "SZOBA_FK": "29",
                                    "FoglalasokSzama": "3"
                                },
                                {
                                    "SZOBA_FK": "30",
                                    "FoglalasokSzama": "2"
                                },
                                {
                                    "SZOBA_FK": "31",
                                    "FoglalasokSzama": "1"
                                },
                                {
                                    "SZOBA_FK": "32",
                                    "FoglalasokSzama": "1"
                                },
                                {
                                    "SZOBA_FK": "33",
                                    "FoglalasokSzama": "3"
                                },
                                {
                                    "SZOBA_FK": "34",
                                    "FoglalasokSzama": "3"
                                },
                                {
                                    "SZOBA_FK": "35",
                                    "FoglalasokSzama": "6"
                                },
                                {
                                    "SZOBA_FK": "36",
                                    "FoglalasokSzama": "4"
                                },
                                {
                                    "SZOBA_FK": "37",
                                    "FoglalasokSzama": "2"
                                },
                                {
                                    "SZOBA_FK": "38",
                                    "FoglalasokSzama": "5"
                                },
                                {
                                    "SZOBA_FK": "39",
                                    "FoglalasokSzama": "4"
                                },
                                {
                                    "SZOBA_FK": "40",
                                    "FoglalasokSzama": "3"
                                },
                                {
                                    "SZOBA_FK": "41",
                                    "FoglalasokSzama": "1"
                                },
                                {
                                    "SZOBA_FK": "42",
                                    "FoglalasokSzama": "5"
                                },
                                {
                                    "SZOBA_FK": "43",
                                    "FoglalasokSzama": "4"
                                },
                                {
                                    "SZOBA_FK": "44",
                                    "FoglalasokSzama": "6"
                                },
                                {
                                    "SZOBA_FK": "45",
                                    "FoglalasokSzama": "4"
                                },
                                {
                                    "SZOBA_FK": "46",
                                    "FoglalasokSzama": "3"
                                },
                                {
                                    "SZOBA_FK": "47",
                                    "FoglalasokSzama": "2"
                                },
                                {
                                    "SZOBA_FK": "48",
                                    "FoglalasokSzama": "6"
                                },
                                {
                                    "SZOBA_FK": "49",
                                    "FoglalasokSzama": "5"
                                },
                                {
                                    "SZOBA_FK": "50",
                                    "FoglalasokSzama": "3"
                                },
                                {
                                    "SZOBA_FK": "51",
                                    "FoglalasokSzama": "3"
                                },
                                {
                                    "SZOBA_FK": "52",
                                    "FoglalasokSzama": "5"
                                },
                                {
                                    "SZOBA_FK": "54",
                                    "FoglalasokSzama": "4"
                                },
                                {
                                    "SZOBA_FK": "55",
                                    "FoglalasokSzama": "3"
                                },
                                {
                                    "SZOBA_FK": "56",
                                    "FoglalasokSzama": "1"
                                },
                                {
                                    "SZOBA_FK": "57",
                                    "FoglalasokSzama": "3"
                                },
                                {
                                    "SZOBA_FK": "58",
                                    "FoglalasokSzama": "8"
                                },
                                {
                                    "SZOBA_FK": "59",
                                    "FoglalasokSzama": "4"
                                },
                                {
                                    "SZOBA_FK": "60",
                                    "FoglalasokSzama": "1"
                                },
                                {
                                    "SZOBA_FK": "61",
                                    "FoglalasokSzama": "4"
                                },
                                {
                                    "SZOBA_FK": "62",
                                    "FoglalasokSzama": "3"
                                },
                                {
                                    "SZOBA_FK": "63",
                                    "FoglalasokSzama": "3"
                                },
                                {
                                    "SZOBA_FK": "64",
                                    "FoglalasokSzama": "5"
                                },
                                {
                                    "SZOBA_FK": "66",
                                    "FoglalasokSzama": "3"
                                },
                                {
                                    "SZOBA_FK": "67",
                                    "FoglalasokSzama": "2"
                                },
                                {
                                    "SZOBA_FK": "69",
                                    "FoglalasokSzama": "2"
                                },
                                {
                                    "SZOBA_FK": "70",
                                    "FoglalasokSzama": "8"
                                },
                                {
                                    "SZOBA_FK": "71",
                                    "FoglalasokSzama": "2"
                                },
                                {
                                    "SZOBA_FK": "72",
                                    "FoglalasokSzama": "2"
                                },
                                {
                                    "SZOBA_FK": "73",
                                    "FoglalasokSzama": "4"
                                },
                                {
                                    "SZOBA_FK": "74",
                                    "FoglalasokSzama": "8"
                                },
                                {
                                    "SZOBA_FK": "75",
                                    "FoglalasokSzama": "2"
                                },
                                {
                                    "SZOBA_FK": "76",
                                    "FoglalasokSzama": "2"
                                },
                                {
                                    "SZOBA_FK": "77",
                                    "FoglalasokSzama": "3"
                                },
                                {
                                    "SZOBA_FK": "78",
                                    "FoglalasokSzama": "3"
                                },
                                {
                                    "SZOBA_FK": "79",
                                    "FoglalasokSzama": "4"
                                },
                                {
                                    "SZOBA_FK": "80",
                                    "FoglalasokSzama": "5"
                                },
                                {
                                    "SZOBA_FK": "81",
                                    "FoglalasokSzama": "3"
                                },
                                {
                                    "SZOBA_FK": "82",
                                    "FoglalasokSzama": "5"
                                },
                                {
                                    "SZOBA_FK": "83",
                                    "FoglalasokSzama": "5"
                                },
                                {
                                    "SZOBA_FK": "84",
                                    "FoglalasokSzama": "3"
                                },
                                {
                                    "SZOBA_FK": "85",
                                    "FoglalasokSzama": "2"
                                },
                                {
                                    "SZOBA_FK": "86",
                                    "FoglalasokSzama": "4"
                                },
                                {
                                    "SZOBA_FK": "87",
                                    "FoglalasokSzama": "5"
                                },
                                {
                                    "SZOBA_FK": "88",
                                    "FoglalasokSzama": "5"
                                },
                                {
                                    "SZOBA_FK": "89",
                                    "FoglalasokSzama": "8"
                                },
                                {
                                    "SZOBA_FK": "90",
                                    "FoglalasokSzama": "3"
                                },
                                {
                                    "SZOBA_FK": "91",
                                    "FoglalasokSzama": "2"
                                },
                                {
                                    "SZOBA_FK": "92",
                                    "FoglalasokSzama": "5"
                                },
                                {
                                    "SZOBA_FK": "93",
                                    "FoglalasokSzama": "3"
                                },
                                {
                                    "SZOBA_FK": "94",
                                    "FoglalasokSzama": "6"
                                },
                                {
                                    "SZOBA_FK": "95",
                                    "FoglalasokSzama": "3"
                                },
                                {
                                    "SZOBA_FK": "96",
                                    "FoglalasokSzama": "6"
                                },
                                {
                                    "SZOBA_FK": "97",
                                    "FoglalasokSzama": "5"
                                },
                                {
                                    "SZOBA_FK": "98",
                                    "FoglalasokSzama": "4"
                                },
                                {
                                    "SZOBA_FK": "99",
                                    "FoglalasokSzama": "4"
                                },
                                {
                                    "SZOBA_FK": "100",
                                    "FoglalasokSzama": "2"
                                },
                                {
                                    "SZOBA_FK": "101",
                                    "FoglalasokSzama": "1"
                                },
                                {
                                    "SZOBA_FK": "102",
                                    "FoglalasokSzama": "1"
                                },
                                {
                                    "SZOBA_FK": "103",
                                    "FoglalasokSzama": "1"
                                },
                                {
                                    "SZOBA_FK": "104",
                                    "FoglalasokSzama": "3"
                                },
                                {
                                    "SZOBA_FK": "106",
                                    "FoglalasokSzama": "4"
                                },
                                {
                                    "SZOBA_FK": "107",
                                    "FoglalasokSzama": "4"
                                },
                                {
                                    "SZOBA_FK": "108",
                                    "FoglalasokSzama": "1"
                                },
                                {
                                    "SZOBA_FK": "109",
                                    "FoglalasokSzama": "2"
                                },
                                {
                                    "SZOBA_FK": "110",
                                    "FoglalasokSzama": "5"
                                },
                                {
                                    "SZOBA_FK": "111",
                                    "FoglalasokSzama": "1"
                                },
                                {
                                    "SZOBA_FK": "112",
                                    "FoglalasokSzama": "4"
                                },
                                {
                                    "SZOBA_FK": "113",
                                    "FoglalasokSzama": "2"
                                },
                                {
                                    "SZOBA_FK": "114",
                                    "FoglalasokSzama": "1"
                                },
                                {
                                    "SZOBA_FK": "115",
                                    "FoglalasokSzama": "5"
                                },
                                {
                                    "SZOBA_FK": "117",
                                    "FoglalasokSzama": "4"
                                },
                                {
                                    "SZOBA_FK": "118",
                                    "FoglalasokSzama": "2"
                                },
                                {
                                    "SZOBA_FK": "119",
                                    "FoglalasokSzama": "4"
                                },
                                {
                                    "SZOBA_FK": "120",
                                    "FoglalasokSzama": "2"
                                },
                                {
                                    "SZOBA_FK": "121",
                                    "FoglalasokSzama": "5"
                                },
                                {
                                    "SZOBA_FK": "122",
                                    "FoglalasokSzama": "3"
                                },
                                {
                                    "SZOBA_FK": "123",
                                    "FoglalasokSzama": "5"
                                },
                                {
                                    "SZOBA_FK": "124",
                                    "FoglalasokSzama": "4"
                                },
                                {
                                    "SZOBA_FK": "126",
                                    "FoglalasokSzama": "4"
                                },
                                {
                                    "SZOBA_FK": "127",
                                    "FoglalasokSzama": "5"
                                },
                                {
                                    "SZOBA_FK": "129",
                                    "FoglalasokSzama": "3"
                                },
                                {
                                    "SZOBA_FK": "130",
                                    "FoglalasokSzama": "5"
                                },
                                {
                                    "SZOBA_FK": "131",
                                    "FoglalasokSzama": "4"
                                },
                                {
                                    "SZOBA_FK": "132",
                                    "FoglalasokSzama": "4"
                                },
                                {
                                    "SZOBA_FK": "133",
                                    "FoglalasokSzama": "4"
                                },
                                {
                                    "SZOBA_FK": "134",
                                    "FoglalasokSzama": "4"
                                },
                                {
                                    "SZOBA_FK": "135",
                                    "FoglalasokSzama": "3"
                                },
                                {
                                    "SZOBA_FK": "136",
                                    "FoglalasokSzama": "2"
                                },
                                {
                                    "SZOBA_FK": "137",
                                    "FoglalasokSzama": "2"
                                },
                                {
                                    "SZOBA_FK": "138",
                                    "FoglalasokSzama": "5"
                                },
                                {
                                    "SZOBA_FK": "139",
                                    "FoglalasokSzama": "6"
                                },
                                {
                                    "SZOBA_FK": "140",
                                    "FoglalasokSzama": "5"
                                },
                                {
                                    "SZOBA_FK": "141",
                                    "FoglalasokSzama": "4"
                                },
                                {
                                    "SZOBA_FK": "142",
                                    "FoglalasokSzama": "1"
                                },
                                {
                                    "SZOBA_FK": "143",
                                    "FoglalasokSzama": "5"
                                },
                                {
                                    "SZOBA_FK": "144",
                                    "FoglalasokSzama": "2"
                                },
                                {
                                    "SZOBA_FK": "145",
                                    "FoglalasokSzama": "2"
                                },
                                {
                                    "SZOBA_FK": "146",
                                    "FoglalasokSzama": "3"
                                },
                                {
                                    "SZOBA_FK": "147",
                                    "FoglalasokSzama": "1"
                                },
                                {
                                    "SZOBA_FK": "148",
                                    "FoglalasokSzama": "5"
                                },
                                {
                                    "SZOBA_FK": "149",
                                    "FoglalasokSzama": "5"
                                },
                                {
                                    "SZOBA_FK": "150",
                                    "FoglalasokSzama": "6"
                                },
                                {
                                    "SZOBA_FK": "151",
                                    "FoglalasokSzama": "2"
                                },
                                {
                                    "SZOBA_FK": "152",
                                    "FoglalasokSzama": "3"
                                },
                                {
                                    "SZOBA_FK": "153",
                                    "FoglalasokSzama": "4"
                                },
                                {
                                    "SZOBA_FK": "154",
                                    "FoglalasokSzama": "3"
                                },
                                {
                                    "SZOBA_FK": "155",
                                    "FoglalasokSzama": "3"
                                },
                                {
                                    "SZOBA_FK": "156",
                                    "FoglalasokSzama": "2"
                                },
                                {
                                    "SZOBA_FK": "157",
                                    "FoglalasokSzama": "2"
                                },
                                {
                                    "SZOBA_FK": "158",
                                    "FoglalasokSzama": "3"
                                },
                                {
                                    "SZOBA_FK": "160",
                                    "FoglalasokSzama": "2"
                                },
                                {
                                    "SZOBA_FK": "161",
                                    "FoglalasokSzama": "3"
                                },
                                {
                                    "SZOBA_FK": "162",
                                    "FoglalasokSzama": "2"
                                },
                                {
                                    "SZOBA_FK": "163",
                                    "FoglalasokSzama": "5"
                                },
                                {
                                    "SZOBA_FK": "164",
                                    "FoglalasokSzama": "4"
                                },
                                {
                                    "SZOBA_FK": "165",
                                    "FoglalasokSzama": "5"
                                },
                                {
                                    "SZOBA_FK": "166",
                                    "FoglalasokSzama": "3"
                                },
                                {
                                    "SZOBA_FK": "167",
                                    "FoglalasokSzama": "2"
                                },
                                {
                                    "SZOBA_FK": "168",
                                    "FoglalasokSzama": "1"
                                },
                                {
                                    "SZOBA_FK": "169",
                                    "FoglalasokSzama": "3"
                                },
                                {
                                    "SZOBA_FK": "170",
                                    "FoglalasokSzama": "3"
                                },
                                {
                                    "SZOBA_FK": "171",
                                    "FoglalasokSzama": "5"
                                },
                                {
                                    "SZOBA_FK": "172",
                                    "FoglalasokSzama": "6"
                                },
                                {
                                    "SZOBA_FK": "173",
                                    "FoglalasokSzama": "3"
                                },
                                {
                                    "SZOBA_FK": "174",
                                    "FoglalasokSzama": "4"
                                },
                                {
                                    "SZOBA_FK": "175",
                                    "FoglalasokSzama": "3"
                                },
                                {
                                    "SZOBA_FK": "176",
                                    "FoglalasokSzama": "2"
                                },
                                {
                                    "SZOBA_FK": "177",
                                    "FoglalasokSzama": "1"
                                },
                                {
                                    "SZOBA_FK": "178",
                                    "FoglalasokSzama": "1"
                                },
                                {
                                    "SZOBA_FK": "179",
                                    "FoglalasokSzama": "2"
                                },
                                {
                                    "SZOBA_FK": "180",
                                    "FoglalasokSzama": "1"
                                },
                                {
                                    "SZOBA_FK": "181",
                                    "FoglalasokSzama": "5"
                                },
                                {
                                    "SZOBA_FK": "182",
                                    "FoglalasokSzama": "11"
                                },
                                {
                                    "SZOBA_FK": "183",
                                    "FoglalasokSzama": "3"
                                },
                                {
                                    "SZOBA_FK": "184",
                                    "FoglalasokSzama": "4"
                                },
                                {
                                    "SZOBA_FK": "185",
                                    "FoglalasokSzama": "10"
                                },
                                {
                                    "SZOBA_FK": "186",
                                    "FoglalasokSzama": "1"
                                },
                                {
                                    "SZOBA_FK": "187",
                                    "FoglalasokSzama": "6"
                                },
                                {
                                    "SZOBA_FK": "188",
                                    "FoglalasokSzama": "2"
                                },
                                {
                                    "SZOBA_FK": "189",
                                    "FoglalasokSzama": "1"
                                },
                                {
                                    "SZOBA_FK": "190",
                                    "FoglalasokSzama": "5"
                                },
                                {
                                    "SZOBA_FK": "191",
                                    "FoglalasokSzama": "3"
                                },
                                {
                                    "SZOBA_FK": "192",
                                    "FoglalasokSzama": "1"
                                },
                                {
                                    "SZOBA_FK": "193",
                                    "FoglalasokSzama": "2"
                                },
                                {
                                    "SZOBA_FK": "194",
                                    "FoglalasokSzama": "1"
                                },
                                {
                                    "SZOBA_FK": "195",
                                    "FoglalasokSzama": "5"
                                },
                                {
                                    "SZOBA_FK": "196",
                                    "FoglalasokSzama": "2"
                                },
                                {
                                    "SZOBA_FK": "197",
                                    "FoglalasokSzama": "6"
                                },
                                {
                                    "SZOBA_FK": "198",
                                    "FoglalasokSzama": "7"
                                },
                                {
                                    "SZOBA_FK": "Összesen:",
                                    "FoglalasokSzama": "668"
                                }
                            ]
                        },
                        "text/html": [
                            "<table>",
                            "<tr><th>SZOBA_FK</th><th>FoglalasokSzama</th></tr>",
                            "<tr><td>1</td><td>7</td></tr>",
                            "<tr><td>2</td><td>2</td></tr>",
                            "<tr><td>3</td><td>3</td></tr>",
                            "<tr><td>4</td><td>5</td></tr>",
                            "<tr><td>5</td><td>2</td></tr>",
                            "<tr><td>6</td><td>5</td></tr>",
                            "<tr><td>7</td><td>6</td></tr>",
                            "<tr><td>8</td><td>5</td></tr>",
                            "<tr><td>9</td><td>4</td></tr>",
                            "<tr><td>10</td><td>4</td></tr>",
                            "<tr><td>11</td><td>4</td></tr>",
                            "<tr><td>12</td><td>7</td></tr>",
                            "<tr><td>13</td><td>4</td></tr>",
                            "<tr><td>14</td><td>3</td></tr>",
                            "<tr><td>15</td><td>4</td></tr>",
                            "<tr><td>16</td><td>1</td></tr>",
                            "<tr><td>17</td><td>2</td></tr>",
                            "<tr><td>18</td><td>3</td></tr>",
                            "<tr><td>19</td><td>4</td></tr>",
                            "<tr><td>20</td><td>5</td></tr>",
                            "<tr><td>21</td><td>1</td></tr>",
                            "<tr><td>22</td><td>2</td></tr>",
                            "<tr><td>23</td><td>3</td></tr>",
                            "<tr><td>24</td><td>3</td></tr>",
                            "<tr><td>25</td><td>1</td></tr>",
                            "<tr><td>27</td><td>5</td></tr>",
                            "<tr><td>28</td><td>5</td></tr>",
                            "<tr><td>29</td><td>3</td></tr>",
                            "<tr><td>30</td><td>2</td></tr>",
                            "<tr><td>31</td><td>1</td></tr>",
                            "<tr><td>32</td><td>1</td></tr>",
                            "<tr><td>33</td><td>3</td></tr>",
                            "<tr><td>34</td><td>3</td></tr>",
                            "<tr><td>35</td><td>6</td></tr>",
                            "<tr><td>36</td><td>4</td></tr>",
                            "<tr><td>37</td><td>2</td></tr>",
                            "<tr><td>38</td><td>5</td></tr>",
                            "<tr><td>39</td><td>4</td></tr>",
                            "<tr><td>40</td><td>3</td></tr>",
                            "<tr><td>41</td><td>1</td></tr>",
                            "<tr><td>42</td><td>5</td></tr>",
                            "<tr><td>43</td><td>4</td></tr>",
                            "<tr><td>44</td><td>6</td></tr>",
                            "<tr><td>45</td><td>4</td></tr>",
                            "<tr><td>46</td><td>3</td></tr>",
                            "<tr><td>47</td><td>2</td></tr>",
                            "<tr><td>48</td><td>6</td></tr>",
                            "<tr><td>49</td><td>5</td></tr>",
                            "<tr><td>50</td><td>3</td></tr>",
                            "<tr><td>51</td><td>3</td></tr>",
                            "<tr><td>52</td><td>5</td></tr>",
                            "<tr><td>54</td><td>4</td></tr>",
                            "<tr><td>55</td><td>3</td></tr>",
                            "<tr><td>56</td><td>1</td></tr>",
                            "<tr><td>57</td><td>3</td></tr>",
                            "<tr><td>58</td><td>8</td></tr>",
                            "<tr><td>59</td><td>4</td></tr>",
                            "<tr><td>60</td><td>1</td></tr>",
                            "<tr><td>61</td><td>4</td></tr>",
                            "<tr><td>62</td><td>3</td></tr>",
                            "<tr><td>63</td><td>3</td></tr>",
                            "<tr><td>64</td><td>5</td></tr>",
                            "<tr><td>66</td><td>3</td></tr>",
                            "<tr><td>67</td><td>2</td></tr>",
                            "<tr><td>69</td><td>2</td></tr>",
                            "<tr><td>70</td><td>8</td></tr>",
                            "<tr><td>71</td><td>2</td></tr>",
                            "<tr><td>72</td><td>2</td></tr>",
                            "<tr><td>73</td><td>4</td></tr>",
                            "<tr><td>74</td><td>8</td></tr>",
                            "<tr><td>75</td><td>2</td></tr>",
                            "<tr><td>76</td><td>2</td></tr>",
                            "<tr><td>77</td><td>3</td></tr>",
                            "<tr><td>78</td><td>3</td></tr>",
                            "<tr><td>79</td><td>4</td></tr>",
                            "<tr><td>80</td><td>5</td></tr>",
                            "<tr><td>81</td><td>3</td></tr>",
                            "<tr><td>82</td><td>5</td></tr>",
                            "<tr><td>83</td><td>5</td></tr>",
                            "<tr><td>84</td><td>3</td></tr>",
                            "<tr><td>85</td><td>2</td></tr>",
                            "<tr><td>86</td><td>4</td></tr>",
                            "<tr><td>87</td><td>5</td></tr>",
                            "<tr><td>88</td><td>5</td></tr>",
                            "<tr><td>89</td><td>8</td></tr>",
                            "<tr><td>90</td><td>3</td></tr>",
                            "<tr><td>91</td><td>2</td></tr>",
                            "<tr><td>92</td><td>5</td></tr>",
                            "<tr><td>93</td><td>3</td></tr>",
                            "<tr><td>94</td><td>6</td></tr>",
                            "<tr><td>95</td><td>3</td></tr>",
                            "<tr><td>96</td><td>6</td></tr>",
                            "<tr><td>97</td><td>5</td></tr>",
                            "<tr><td>98</td><td>4</td></tr>",
                            "<tr><td>99</td><td>4</td></tr>",
                            "<tr><td>100</td><td>2</td></tr>",
                            "<tr><td>101</td><td>1</td></tr>",
                            "<tr><td>102</td><td>1</td></tr>",
                            "<tr><td>103</td><td>1</td></tr>",
                            "<tr><td>104</td><td>3</td></tr>",
                            "<tr><td>106</td><td>4</td></tr>",
                            "<tr><td>107</td><td>4</td></tr>",
                            "<tr><td>108</td><td>1</td></tr>",
                            "<tr><td>109</td><td>2</td></tr>",
                            "<tr><td>110</td><td>5</td></tr>",
                            "<tr><td>111</td><td>1</td></tr>",
                            "<tr><td>112</td><td>4</td></tr>",
                            "<tr><td>113</td><td>2</td></tr>",
                            "<tr><td>114</td><td>1</td></tr>",
                            "<tr><td>115</td><td>5</td></tr>",
                            "<tr><td>117</td><td>4</td></tr>",
                            "<tr><td>118</td><td>2</td></tr>",
                            "<tr><td>119</td><td>4</td></tr>",
                            "<tr><td>120</td><td>2</td></tr>",
                            "<tr><td>121</td><td>5</td></tr>",
                            "<tr><td>122</td><td>3</td></tr>",
                            "<tr><td>123</td><td>5</td></tr>",
                            "<tr><td>124</td><td>4</td></tr>",
                            "<tr><td>126</td><td>4</td></tr>",
                            "<tr><td>127</td><td>5</td></tr>",
                            "<tr><td>129</td><td>3</td></tr>",
                            "<tr><td>130</td><td>5</td></tr>",
                            "<tr><td>131</td><td>4</td></tr>",
                            "<tr><td>132</td><td>4</td></tr>",
                            "<tr><td>133</td><td>4</td></tr>",
                            "<tr><td>134</td><td>4</td></tr>",
                            "<tr><td>135</td><td>3</td></tr>",
                            "<tr><td>136</td><td>2</td></tr>",
                            "<tr><td>137</td><td>2</td></tr>",
                            "<tr><td>138</td><td>5</td></tr>",
                            "<tr><td>139</td><td>6</td></tr>",
                            "<tr><td>140</td><td>5</td></tr>",
                            "<tr><td>141</td><td>4</td></tr>",
                            "<tr><td>142</td><td>1</td></tr>",
                            "<tr><td>143</td><td>5</td></tr>",
                            "<tr><td>144</td><td>2</td></tr>",
                            "<tr><td>145</td><td>2</td></tr>",
                            "<tr><td>146</td><td>3</td></tr>",
                            "<tr><td>147</td><td>1</td></tr>",
                            "<tr><td>148</td><td>5</td></tr>",
                            "<tr><td>149</td><td>5</td></tr>",
                            "<tr><td>150</td><td>6</td></tr>",
                            "<tr><td>151</td><td>2</td></tr>",
                            "<tr><td>152</td><td>3</td></tr>",
                            "<tr><td>153</td><td>4</td></tr>",
                            "<tr><td>154</td><td>3</td></tr>",
                            "<tr><td>155</td><td>3</td></tr>",
                            "<tr><td>156</td><td>2</td></tr>",
                            "<tr><td>157</td><td>2</td></tr>",
                            "<tr><td>158</td><td>3</td></tr>",
                            "<tr><td>160</td><td>2</td></tr>",
                            "<tr><td>161</td><td>3</td></tr>",
                            "<tr><td>162</td><td>2</td></tr>",
                            "<tr><td>163</td><td>5</td></tr>",
                            "<tr><td>164</td><td>4</td></tr>",
                            "<tr><td>165</td><td>5</td></tr>",
                            "<tr><td>166</td><td>3</td></tr>",
                            "<tr><td>167</td><td>2</td></tr>",
                            "<tr><td>168</td><td>1</td></tr>",
                            "<tr><td>169</td><td>3</td></tr>",
                            "<tr><td>170</td><td>3</td></tr>",
                            "<tr><td>171</td><td>5</td></tr>",
                            "<tr><td>172</td><td>6</td></tr>",
                            "<tr><td>173</td><td>3</td></tr>",
                            "<tr><td>174</td><td>4</td></tr>",
                            "<tr><td>175</td><td>3</td></tr>",
                            "<tr><td>176</td><td>2</td></tr>",
                            "<tr><td>177</td><td>1</td></tr>",
                            "<tr><td>178</td><td>1</td></tr>",
                            "<tr><td>179</td><td>2</td></tr>",
                            "<tr><td>180</td><td>1</td></tr>",
                            "<tr><td>181</td><td>5</td></tr>",
                            "<tr><td>182</td><td>11</td></tr>",
                            "<tr><td>183</td><td>3</td></tr>",
                            "<tr><td>184</td><td>4</td></tr>",
                            "<tr><td>185</td><td>10</td></tr>",
                            "<tr><td>186</td><td>1</td></tr>",
                            "<tr><td>187</td><td>6</td></tr>",
                            "<tr><td>188</td><td>2</td></tr>",
                            "<tr><td>189</td><td>1</td></tr>",
                            "<tr><td>190</td><td>5</td></tr>",
                            "<tr><td>191</td><td>3</td></tr>",
                            "<tr><td>192</td><td>1</td></tr>",
                            "<tr><td>193</td><td>2</td></tr>",
                            "<tr><td>194</td><td>1</td></tr>",
                            "<tr><td>195</td><td>5</td></tr>",
                            "<tr><td>196</td><td>2</td></tr>",
                            "<tr><td>197</td><td>6</td></tr>",
                            "<tr><td>198</td><td>7</td></tr>",
                            "<tr><td>Összesen:</td><td>668</td></tr>",
                            "</table>"
                        ]
                    }
                }
            ],
            "execution_count": 10
        },
        {
            "cell_type": "markdown",
            "source": [
                "Rangsoroljuk az egyes szobákat a foglalások száma, azon belül férőhely szerint!\n",
                "\n",
                "- Holtverseny esetén a sorszámok sűrűn kövessék egymást\n",
                "- Az 1-es számot a legtöbbet foglalt, azon belül legkevesebb férőhelyű szoba kapja\n",
                "- Csak a szoba azonosítója, a férőhely és a helyezés jelenjen meg"
            ],
            "metadata": {
                "azdata_cell_guid": "0b5b8dfe-fcfb-4148-ad8d-0f356933c8bc"
            },
            "attachments": {}
        },
        {
            "cell_type": "code",
            "source": [
                "SELECT \r\n",
                "  DENSE_RANK() OVER (ORDER BY FoglalasokSzama DESC, s.Ferohely ASC) AS Helyezes,\r\n",
                "  f.SZOBA_FK AS SzobaAzonosito,\r\n",
                "  s.Ferohely\r\n",
                "FROM \r\n",
                "  (SELECT SZOBA_FK, COUNT(*) AS FoglalasokSzama\r\n",
                "   FROM Foglalas\r\n",
                "   GROUP BY SZOBA_FK) f\r\n",
                "JOIN Szoba s ON f.SZOBA_FK = s.SZOBA_ID\r\n",
                "ORDER BY Helyezes;"
            ],
            "metadata": {
                "azdata_cell_guid": "d7f9e645-8f16-4e38-90c8-8c40128b81b4",
                "language": "sql"
            },
            "outputs": [
                {
                    "output_type": "display_data",
                    "data": {
                        "text/html": "(197 rows affected)"
                    },
                    "metadata": {}
                },
                {
                    "output_type": "display_data",
                    "data": {
                        "text/html": "Total execution time: 00:00:00.014"
                    },
                    "metadata": {}
                },
                {
                    "output_type": "execute_result",
                    "metadata": {},
                    "execution_count": 11,
                    "data": {
                        "application/vnd.dataresource+json": {
                            "schema": {
                                "fields": [
                                    {
                                        "name": "Helyezes"
                                    },
                                    {
                                        "name": "SzobaAzonosito"
                                    },
                                    {
                                        "name": "Ferohely"
                                    }
                                ]
                            },
                            "data": [
                                {
                                    "Helyezes": "1",
                                    "SzobaAzonosito": "58",
                                    "Ferohely": "2"
                                },
                                {
                                    "Helyezes": "2",
                                    "SzobaAzonosito": "182",
                                    "Ferohely": "2"
                                },
                                {
                                    "Helyezes": "3",
                                    "SzobaAzonosito": "185",
                                    "Ferohely": "3"
                                },
                                {
                                    "Helyezes": "4",
                                    "SzobaAzonosito": "70",
                                    "Ferohely": "2"
                                },
                                {
                                    "Helyezes": "5",
                                    "SzobaAzonosito": "94",
                                    "Ferohely": "2"
                                },
                                {
                                    "Helyezes": "6",
                                    "SzobaAzonosito": "12",
                                    "Ferohely": "2"
                                },
                                {
                                    "Helyezes": "6",
                                    "SzobaAzonosito": "172",
                                    "Ferohely": "2"
                                },
                                {
                                    "Helyezes": "7",
                                    "SzobaAzonosito": "35",
                                    "Ferohely": "3"
                                },
                                {
                                    "Helyezes": "7",
                                    "SzobaAzonosito": "48",
                                    "Ferohely": "3"
                                },
                                {
                                    "Helyezes": "7",
                                    "SzobaAzonosito": "74",
                                    "Ferohely": "3"
                                },
                                {
                                    "Helyezes": "7",
                                    "SzobaAzonosito": "122",
                                    "Ferohely": "3"
                                },
                                {
                                    "Helyezes": "8",
                                    "SzobaAzonosito": "121",
                                    "Ferohely": "2"
                                },
                                {
                                    "Helyezes": "8",
                                    "SzobaAzonosito": "140",
                                    "Ferohely": "2"
                                },
                                {
                                    "Helyezes": "8",
                                    "SzobaAzonosito": "110",
                                    "Ferohely": "2"
                                },
                                {
                                    "Helyezes": "8",
                                    "SzobaAzonosito": "55",
                                    "Ferohely": "2"
                                },
                                {
                                    "Helyezes": "8",
                                    "SzobaAzonosito": "38",
                                    "Ferohely": "2"
                                },
                                {
                                    "Helyezes": "9",
                                    "SzobaAzonosito": "1",
                                    "Ferohely": "3"
                                },
                                {
                                    "Helyezes": "9",
                                    "SzobaAzonosito": "3",
                                    "Ferohely": "3"
                                },
                                {
                                    "Helyezes": "9",
                                    "SzobaAzonosito": "43",
                                    "Ferohely": "3"
                                },
                                {
                                    "Helyezes": "9",
                                    "SzobaAzonosito": "83",
                                    "Ferohely": "3"
                                },
                                {
                                    "Helyezes": "9",
                                    "SzobaAzonosito": "88",
                                    "Ferohely": "3"
                                },
                                {
                                    "Helyezes": "9",
                                    "SzobaAzonosito": "89",
                                    "Ferohely": "3"
                                },
                                {
                                    "Helyezes": "9",
                                    "SzobaAzonosito": "117",
                                    "Ferohely": "3"
                                },
                                {
                                    "Helyezes": "9",
                                    "SzobaAzonosito": "198",
                                    "Ferohely": "3"
                                },
                                {
                                    "Helyezes": "10",
                                    "SzobaAzonosito": "149",
                                    "Ferohely": "2"
                                },
                                {
                                    "Helyezes": "10",
                                    "SzobaAzonosito": "156",
                                    "Ferohely": "2"
                                },
                                {
                                    "Helyezes": "10",
                                    "SzobaAzonosito": "163",
                                    "Ferohely": "2"
                                },
                                {
                                    "Helyezes": "10",
                                    "SzobaAzonosito": "165",
                                    "Ferohely": "2"
                                },
                                {
                                    "Helyezes": "10",
                                    "SzobaAzonosito": "118",
                                    "Ferohely": "2"
                                },
                                {
                                    "Helyezes": "10",
                                    "SzobaAzonosito": "109",
                                    "Ferohely": "2"
                                },
                                {
                                    "Helyezes": "10",
                                    "SzobaAzonosito": "127",
                                    "Ferohely": "2"
                                },
                                {
                                    "Helyezes": "10",
                                    "SzobaAzonosito": "139",
                                    "Ferohely": "2"
                                },
                                {
                                    "Helyezes": "10",
                                    "SzobaAzonosito": "80",
                                    "Ferohely": "2"
                                },
                                {
                                    "Helyezes": "10",
                                    "SzobaAzonosito": "59",
                                    "Ferohely": "2"
                                },
                                {
                                    "Helyezes": "10",
                                    "SzobaAzonosito": "39",
                                    "Ferohely": "2"
                                },
                                {
                                    "Helyezes": "11",
                                    "SzobaAzonosito": "27",
                                    "Ferohely": "3"
                                },
                                {
                                    "Helyezes": "11",
                                    "SzobaAzonosito": "49",
                                    "Ferohely": "3"
                                },
                                {
                                    "Helyezes": "11",
                                    "SzobaAzonosito": "96",
                                    "Ferohely": "3"
                                },
                                {
                                    "Helyezes": "11",
                                    "SzobaAzonosito": "97",
                                    "Ferohely": "3"
                                },
                                {
                                    "Helyezes": "11",
                                    "SzobaAzonosito": "138",
                                    "Ferohely": "3"
                                },
                                {
                                    "Helyezes": "11",
                                    "SzobaAzonosito": "143",
                                    "Ferohely": "3"
                                },
                                {
                                    "Helyezes": "11",
                                    "SzobaAzonosito": "115",
                                    "Ferohely": "3"
                                },
                                {
                                    "Helyezes": "11",
                                    "SzobaAzonosito": "187",
                                    "Ferohely": "3"
                                },
                                {
                                    "Helyezes": "11",
                                    "SzobaAzonosito": "193",
                                    "Ferohely": "3"
                                },
                                {
                                    "Helyezes": "12",
                                    "SzobaAzonosito": "195",
                                    "Ferohely": "2"
                                },
                                {
                                    "Helyezes": "12",
                                    "SzobaAzonosito": "161",
                                    "Ferohely": "2"
                                },
                                {
                                    "Helyezes": "12",
                                    "SzobaAzonosito": "150",
                                    "Ferohely": "2"
                                },
                                {
                                    "Helyezes": "12",
                                    "SzobaAzonosito": "148",
                                    "Ferohely": "2"
                                },
                                {
                                    "Helyezes": "12",
                                    "SzobaAzonosito": "169",
                                    "Ferohely": "2"
                                },
                                {
                                    "Helyezes": "12",
                                    "SzobaAzonosito": "106",
                                    "Ferohely": "2"
                                },
                                {
                                    "Helyezes": "12",
                                    "SzobaAzonosito": "126",
                                    "Ferohely": "2"
                                },
                                {
                                    "Helyezes": "12",
                                    "SzobaAzonosito": "145",
                                    "Ferohely": "2"
                                },
                                {
                                    "Helyezes": "12",
                                    "SzobaAzonosito": "141",
                                    "Ferohely": "2"
                                },
                                {
                                    "Helyezes": "12",
                                    "SzobaAzonosito": "130",
                                    "Ferohely": "2"
                                },
                                {
                                    "Helyezes": "12",
                                    "SzobaAzonosito": "137",
                                    "Ferohely": "2"
                                },
                                {
                                    "Helyezes": "12",
                                    "SzobaAzonosito": "78",
                                    "Ferohely": "2"
                                },
                                {
                                    "Helyezes": "12",
                                    "SzobaAzonosito": "42",
                                    "Ferohely": "2"
                                },
                                {
                                    "Helyezes": "12",
                                    "SzobaAzonosito": "64",
                                    "Ferohely": "2"
                                },
                                {
                                    "Helyezes": "12",
                                    "SzobaAzonosito": "67",
                                    "Ferohely": "2"
                                },
                                {
                                    "Helyezes": "12",
                                    "SzobaAzonosito": "28",
                                    "Ferohely": "2"
                                },
                                {
                                    "Helyezes": "12",
                                    "SzobaAzonosito": "29",
                                    "Ferohely": "2"
                                },
                                {
                                    "Helyezes": "12",
                                    "SzobaAzonosito": "19",
                                    "Ferohely": "2"
                                },
                                {
                                    "Helyezes": "12",
                                    "SzobaAzonosito": "33",
                                    "Ferohely": "2"
                                },
                                {
                                    "Helyezes": "12",
                                    "SzobaAzonosito": "4",
                                    "Ferohely": "2"
                                },
                                {
                                    "Helyezes": "12",
                                    "SzobaAzonosito": "7",
                                    "Ferohely": "2"
                                },
                                {
                                    "Helyezes": "12",
                                    "SzobaAzonosito": "15",
                                    "Ferohely": "2"
                                },
                                {
                                    "Helyezes": "13",
                                    "SzobaAzonosito": "17",
                                    "Ferohely": "3"
                                },
                                {
                                    "Helyezes": "13",
                                    "SzobaAzonosito": "18",
                                    "Ferohely": "3"
                                },
                                {
                                    "Helyezes": "13",
                                    "SzobaAzonosito": "6",
                                    "Ferohely": "3"
                                },
                                {
                                    "Helyezes": "13",
                                    "SzobaAzonosito": "9",
                                    "Ferohely": "3"
                                },
                                {
                                    "Helyezes": "13",
                                    "SzobaAzonosito": "22",
                                    "Ferohely": "3"
                                },
                                {
                                    "Helyezes": "13",
                                    "SzobaAzonosito": "36",
                                    "Ferohely": "3"
                                },
                                {
                                    "Helyezes": "13",
                                    "SzobaAzonosito": "44",
                                    "Ferohely": "3"
                                },
                                {
                                    "Helyezes": "13",
                                    "SzobaAzonosito": "54",
                                    "Ferohely": "3"
                                },
                                {
                                    "Helyezes": "13",
                                    "SzobaAzonosito": "77",
                                    "Ferohely": "3"
                                },
                                {
                                    "Helyezes": "13",
                                    "SzobaAzonosito": "82",
                                    "Ferohely": "3"
                                },
                                {
                                    "Helyezes": "13",
                                    "SzobaAzonosito": "92",
                                    "Ferohely": "3"
                                },
                                {
                                    "Helyezes": "13",
                                    "SzobaAzonosito": "132",
                                    "Ferohely": "3"
                                },
                                {
                                    "Helyezes": "13",
                                    "SzobaAzonosito": "133",
                                    "Ferohely": "3"
                                },
                                {
                                    "Helyezes": "13",
                                    "SzobaAzonosito": "134",
                                    "Ferohely": "3"
                                },
                                {
                                    "Helyezes": "13",
                                    "SzobaAzonosito": "146",
                                    "Ferohely": "3"
                                },
                                {
                                    "Helyezes": "13",
                                    "SzobaAzonosito": "124",
                                    "Ferohely": "3"
                                },
                                {
                                    "Helyezes": "13",
                                    "SzobaAzonosito": "120",
                                    "Ferohely": "3"
                                },
                                {
                                    "Helyezes": "13",
                                    "SzobaAzonosito": "176",
                                    "Ferohely": "3"
                                },
                                {
                                    "Helyezes": "13",
                                    "SzobaAzonosito": "181",
                                    "Ferohely": "3"
                                },
                                {
                                    "Helyezes": "13",
                                    "SzobaAzonosito": "188",
                                    "Ferohely": "3"
                                },
                                {
                                    "Helyezes": "13",
                                    "SzobaAzonosito": "197",
                                    "Ferohely": "3"
                                },
                                {
                                    "Helyezes": "14",
                                    "SzobaAzonosito": "189",
                                    "Ferohely": "2"
                                },
                                {
                                    "Helyezes": "14",
                                    "SzobaAzonosito": "190",
                                    "Ferohely": "2"
                                },
                                {
                                    "Helyezes": "14",
                                    "SzobaAzonosito": "191",
                                    "Ferohely": "2"
                                },
                                {
                                    "Helyezes": "14",
                                    "SzobaAzonosito": "168",
                                    "Ferohely": "2"
                                },
                                {
                                    "Helyezes": "14",
                                    "SzobaAzonosito": "175",
                                    "Ferohely": "2"
                                },
                                {
                                    "Helyezes": "14",
                                    "SzobaAzonosito": "170",
                                    "Ferohely": "2"
                                },
                                {
                                    "Helyezes": "14",
                                    "SzobaAzonosito": "171",
                                    "Ferohely": "2"
                                },
                                {
                                    "Helyezes": "14",
                                    "SzobaAzonosito": "157",
                                    "Ferohely": "2"
                                },
                                {
                                    "Helyezes": "14",
                                    "SzobaAzonosito": "154",
                                    "Ferohely": "2"
                                },
                                {
                                    "Helyezes": "14",
                                    "SzobaAzonosito": "164",
                                    "Ferohely": "2"
                                },
                                {
                                    "Helyezes": "14",
                                    "SzobaAzonosito": "119",
                                    "Ferohely": "2"
                                },
                                {
                                    "Helyezes": "14",
                                    "SzobaAzonosito": "107",
                                    "Ferohely": "2"
                                },
                                {
                                    "Helyezes": "14",
                                    "SzobaAzonosito": "128",
                                    "Ferohely": "2"
                                },
                                {
                                    "Helyezes": "14",
                                    "SzobaAzonosito": "131",
                                    "Ferohely": "2"
                                },
                                {
                                    "Helyezes": "14",
                                    "SzobaAzonosito": "99",
                                    "Ferohely": "2"
                                },
                                {
                                    "Helyezes": "14",
                                    "SzobaAzonosito": "111",
                                    "Ferohely": "2"
                                },
                                {
                                    "Helyezes": "14",
                                    "SzobaAzonosito": "81",
                                    "Ferohely": "2"
                                },
                                {
                                    "Helyezes": "14",
                                    "SzobaAzonosito": "86",
                                    "Ferohely": "2"
                                },
                                {
                                    "Helyezes": "14",
                                    "SzobaAzonosito": "52",
                                    "Ferohely": "2"
                                },
                                {
                                    "Helyezes": "14",
                                    "SzobaAzonosito": "45",
                                    "Ferohely": "2"
                                },
                                {
                                    "Helyezes": "14",
                                    "SzobaAzonosito": "62",
                                    "Ferohely": "2"
                                },
                                {
                                    "Helyezes": "15",
                                    "SzobaAzonosito": "61",
                                    "Ferohely": "3"
                                },
                                {
                                    "Helyezes": "15",
                                    "SzobaAzonosito": "51",
                                    "Ferohely": "3"
                                },
                                {
                                    "Helyezes": "15",
                                    "SzobaAzonosito": "20",
                                    "Ferohely": "3"
                                },
                                {
                                    "Helyezes": "15",
                                    "SzobaAzonosito": "8",
                                    "Ferohely": "3"
                                },
                                {
                                    "Helyezes": "15",
                                    "SzobaAzonosito": "16",
                                    "Ferohely": "3"
                                },
                                {
                                    "Helyezes": "15",
                                    "SzobaAzonosito": "87",
                                    "Ferohely": "3"
                                },
                                {
                                    "Helyezes": "15",
                                    "SzobaAzonosito": "79",
                                    "Ferohely": "3"
                                },
                                {
                                    "Helyezes": "15",
                                    "SzobaAzonosito": "112",
                                    "Ferohely": "3"
                                },
                                {
                                    "Helyezes": "15",
                                    "SzobaAzonosito": "113",
                                    "Ferohely": "3"
                                },
                                {
                                    "Helyezes": "15",
                                    "SzobaAzonosito": "93",
                                    "Ferohely": "3"
                                },
                                {
                                    "Helyezes": "15",
                                    "SzobaAzonosito": "144",
                                    "Ferohely": "3"
                                },
                                {
                                    "Helyezes": "15",
                                    "SzobaAzonosito": "123",
                                    "Ferohely": "3"
                                },
                                {
                                    "Helyezes": "15",
                                    "SzobaAzonosito": "153",
                                    "Ferohely": "3"
                                },
                                {
                                    "Helyezes": "15",
                                    "SzobaAzonosito": "160",
                                    "Ferohely": "3"
                                },
                                {
                                    "Helyezes": "15",
                                    "SzobaAzonosito": "155",
                                    "Ferohely": "3"
                                },
                                {
                                    "Helyezes": "16",
                                    "SzobaAzonosito": "152",
                                    "Ferohely": "2"
                                },
                                {
                                    "Helyezes": "16",
                                    "SzobaAzonosito": "173",
                                    "Ferohely": "2"
                                },
                                {
                                    "Helyezes": "16",
                                    "SzobaAzonosito": "174",
                                    "Ferohely": "2"
                                },
                                {
                                    "Helyezes": "16",
                                    "SzobaAzonosito": "186",
                                    "Ferohely": "2"
                                },
                                {
                                    "Helyezes": "16",
                                    "SzobaAzonosito": "196",
                                    "Ferohely": "2"
                                },
                                {
                                    "Helyezes": "16",
                                    "SzobaAzonosito": "184",
                                    "Ferohely": "2"
                                },
                                {
                                    "Helyezes": "16",
                                    "SzobaAzonosito": "129",
                                    "Ferohely": "2"
                                },
                                {
                                    "Helyezes": "16",
                                    "SzobaAzonosito": "100",
                                    "Ferohely": "2"
                                },
                                {
                                    "Helyezes": "16",
                                    "SzobaAzonosito": "114",
                                    "Ferohely": "2"
                                },
                                {
                                    "Helyezes": "16",
                                    "SzobaAzonosito": "98",
                                    "Ferohely": "2"
                                },
                                {
                                    "Helyezes": "16",
                                    "SzobaAzonosito": "103",
                                    "Ferohely": "2"
                                },
                                {
                                    "Helyezes": "16",
                                    "SzobaAzonosito": "85",
                                    "Ferohely": "2"
                                },
                                {
                                    "Helyezes": "16",
                                    "SzobaAzonosito": "91",
                                    "Ferohely": "2"
                                },
                                {
                                    "Helyezes": "16",
                                    "SzobaAzonosito": "11",
                                    "Ferohely": "2"
                                },
                                {
                                    "Helyezes": "16",
                                    "SzobaAzonosito": "5",
                                    "Ferohely": "2"
                                },
                                {
                                    "Helyezes": "16",
                                    "SzobaAzonosito": "21",
                                    "Ferohely": "2"
                                },
                                {
                                    "Helyezes": "16",
                                    "SzobaAzonosito": "50",
                                    "Ferohely": "2"
                                },
                                {
                                    "Helyezes": "16",
                                    "SzobaAzonosito": "57",
                                    "Ferohely": "2"
                                },
                                {
                                    "Helyezes": "16",
                                    "SzobaAzonosito": "63",
                                    "Ferohely": "2"
                                },
                                {
                                    "Helyezes": "16",
                                    "SzobaAzonosito": "72",
                                    "Ferohely": "2"
                                },
                                {
                                    "Helyezes": "16",
                                    "SzobaAzonosito": "73",
                                    "Ferohely": "2"
                                },
                                {
                                    "Helyezes": "17",
                                    "SzobaAzonosito": "66",
                                    "Ferohely": "3"
                                },
                                {
                                    "Helyezes": "17",
                                    "SzobaAzonosito": "69",
                                    "Ferohely": "3"
                                },
                                {
                                    "Helyezes": "17",
                                    "SzobaAzonosito": "46",
                                    "Ferohely": "3"
                                },
                                {
                                    "Helyezes": "17",
                                    "SzobaAzonosito": "34",
                                    "Ferohely": "3"
                                },
                                {
                                    "Helyezes": "17",
                                    "SzobaAzonosito": "40",
                                    "Ferohely": "3"
                                },
                                {
                                    "Helyezes": "17",
                                    "SzobaAzonosito": "2",
                                    "Ferohely": "3"
                                },
                                {
                                    "Helyezes": "17",
                                    "SzobaAzonosito": "10",
                                    "Ferohely": "3"
                                },
                                {
                                    "Helyezes": "17",
                                    "SzobaAzonosito": "13",
                                    "Ferohely": "3"
                                },
                                {
                                    "Helyezes": "17",
                                    "SzobaAzonosito": "90",
                                    "Ferohely": "3"
                                },
                                {
                                    "Helyezes": "17",
                                    "SzobaAzonosito": "84",
                                    "Ferohely": "3"
                                },
                                {
                                    "Helyezes": "17",
                                    "SzobaAzonosito": "104",
                                    "Ferohely": "3"
                                },
                                {
                                    "Helyezes": "17",
                                    "SzobaAzonosito": "95",
                                    "Ferohely": "3"
                                },
                                {
                                    "Helyezes": "17",
                                    "SzobaAzonosito": "183",
                                    "Ferohely": "3"
                                },
                                {
                                    "Helyezes": "17",
                                    "SzobaAzonosito": "177",
                                    "Ferohely": "3"
                                },
                                {
                                    "Helyezes": "17",
                                    "SzobaAzonosito": "178",
                                    "Ferohely": "3"
                                },
                                {
                                    "Helyezes": "18",
                                    "SzobaAzonosito": "180",
                                    "Ferohely": "2"
                                },
                                {
                                    "Helyezes": "18",
                                    "SzobaAzonosito": "151",
                                    "Ferohely": "2"
                                },
                                {
                                    "Helyezes": "18",
                                    "SzobaAzonosito": "158",
                                    "Ferohely": "2"
                                },
                                {
                                    "Helyezes": "18",
                                    "SzobaAzonosito": "166",
                                    "Ferohely": "2"
                                },
                                {
                                    "Helyezes": "18",
                                    "SzobaAzonosito": "101",
                                    "Ferohely": "2"
                                },
                                {
                                    "Helyezes": "18",
                                    "SzobaAzonosito": "75",
                                    "Ferohely": "2"
                                },
                                {
                                    "Helyezes": "18",
                                    "SzobaAzonosito": "76",
                                    "Ferohely": "2"
                                },
                                {
                                    "Helyezes": "18",
                                    "SzobaAzonosito": "136",
                                    "Ferohely": "2"
                                },
                                {
                                    "Helyezes": "18",
                                    "SzobaAzonosito": "23",
                                    "Ferohely": "2"
                                },
                                {
                                    "Helyezes": "18",
                                    "SzobaAzonosito": "37",
                                    "Ferohely": "2"
                                },
                                {
                                    "Helyezes": "18",
                                    "SzobaAzonosito": "68",
                                    "Ferohely": "2"
                                },
                                {
                                    "Helyezes": "19",
                                    "SzobaAzonosito": "71",
                                    "Ferohely": "3"
                                },
                                {
                                    "Helyezes": "19",
                                    "SzobaAzonosito": "30",
                                    "Ferohely": "3"
                                },
                                {
                                    "Helyezes": "19",
                                    "SzobaAzonosito": "31",
                                    "Ferohely": "3"
                                },
                                {
                                    "Helyezes": "19",
                                    "SzobaAzonosito": "14",
                                    "Ferohely": "3"
                                },
                                {
                                    "Helyezes": "19",
                                    "SzobaAzonosito": "135",
                                    "Ferohely": "3"
                                },
                                {
                                    "Helyezes": "19",
                                    "SzobaAzonosito": "162",
                                    "Ferohely": "3"
                                },
                                {
                                    "Helyezes": "19",
                                    "SzobaAzonosito": "179",
                                    "Ferohely": "3"
                                },
                                {
                                    "Helyezes": "20",
                                    "SzobaAzonosito": "24",
                                    "Ferohely": "4"
                                },
                                {
                                    "Helyezes": "21",
                                    "SzobaAzonosito": "26",
                                    "Ferohely": "2"
                                },
                                {
                                    "Helyezes": "21",
                                    "SzobaAzonosito": "47",
                                    "Ferohely": "2"
                                },
                                {
                                    "Helyezes": "21",
                                    "SzobaAzonosito": "53",
                                    "Ferohely": "2"
                                },
                                {
                                    "Helyezes": "21",
                                    "SzobaAzonosito": "56",
                                    "Ferohely": "2"
                                },
                                {
                                    "Helyezes": "21",
                                    "SzobaAzonosito": "108",
                                    "Ferohely": "2"
                                },
                                {
                                    "Helyezes": "21",
                                    "SzobaAzonosito": "102",
                                    "Ferohely": "2"
                                },
                                {
                                    "Helyezes": "21",
                                    "SzobaAzonosito": "105",
                                    "Ferohely": "2"
                                },
                                {
                                    "Helyezes": "21",
                                    "SzobaAzonosito": "192",
                                    "Ferohely": "2"
                                },
                                {
                                    "Helyezes": "22",
                                    "SzobaAzonosito": "167",
                                    "Ferohely": "3"
                                },
                                {
                                    "Helyezes": "22",
                                    "SzobaAzonosito": "116",
                                    "Ferohely": "3"
                                },
                                {
                                    "Helyezes": "22",
                                    "SzobaAzonosito": "142",
                                    "Ferohely": "3"
                                },
                                {
                                    "Helyezes": "22",
                                    "SzobaAzonosito": "25",
                                    "Ferohely": "3"
                                },
                                {
                                    "Helyezes": "22",
                                    "SzobaAzonosito": "41",
                                    "Ferohely": "3"
                                },
                                {
                                    "Helyezes": "23",
                                    "SzobaAzonosito": "32",
                                    "Ferohely": "2"
                                },
                                {
                                    "Helyezes": "23",
                                    "SzobaAzonosito": "65",
                                    "Ferohely": "2"
                                },
                                {
                                    "Helyezes": "23",
                                    "SzobaAzonosito": "147",
                                    "Ferohely": "2"
                                },
                                {
                                    "Helyezes": "23",
                                    "SzobaAzonosito": "125",
                                    "Ferohely": "2"
                                },
                                {
                                    "Helyezes": "23",
                                    "SzobaAzonosito": "194",
                                    "Ferohely": "2"
                                },
                                {
                                    "Helyezes": "24",
                                    "SzobaAzonosito": "60",
                                    "Ferohely": "3"
                                }
                            ]
                        },
                        "text/html": [
                            "<table>",
                            "<tr><th>Helyezes</th><th>SzobaAzonosito</th><th>Ferohely</th></tr>",
                            "<tr><td>1</td><td>58</td><td>2</td></tr>",
                            "<tr><td>2</td><td>182</td><td>2</td></tr>",
                            "<tr><td>3</td><td>185</td><td>3</td></tr>",
                            "<tr><td>4</td><td>70</td><td>2</td></tr>",
                            "<tr><td>5</td><td>94</td><td>2</td></tr>",
                            "<tr><td>6</td><td>12</td><td>2</td></tr>",
                            "<tr><td>6</td><td>172</td><td>2</td></tr>",
                            "<tr><td>7</td><td>35</td><td>3</td></tr>",
                            "<tr><td>7</td><td>48</td><td>3</td></tr>",
                            "<tr><td>7</td><td>74</td><td>3</td></tr>",
                            "<tr><td>7</td><td>122</td><td>3</td></tr>",
                            "<tr><td>8</td><td>121</td><td>2</td></tr>",
                            "<tr><td>8</td><td>140</td><td>2</td></tr>",
                            "<tr><td>8</td><td>110</td><td>2</td></tr>",
                            "<tr><td>8</td><td>55</td><td>2</td></tr>",
                            "<tr><td>8</td><td>38</td><td>2</td></tr>",
                            "<tr><td>9</td><td>1</td><td>3</td></tr>",
                            "<tr><td>9</td><td>3</td><td>3</td></tr>",
                            "<tr><td>9</td><td>43</td><td>3</td></tr>",
                            "<tr><td>9</td><td>83</td><td>3</td></tr>",
                            "<tr><td>9</td><td>88</td><td>3</td></tr>",
                            "<tr><td>9</td><td>89</td><td>3</td></tr>",
                            "<tr><td>9</td><td>117</td><td>3</td></tr>",
                            "<tr><td>9</td><td>198</td><td>3</td></tr>",
                            "<tr><td>10</td><td>149</td><td>2</td></tr>",
                            "<tr><td>10</td><td>156</td><td>2</td></tr>",
                            "<tr><td>10</td><td>163</td><td>2</td></tr>",
                            "<tr><td>10</td><td>165</td><td>2</td></tr>",
                            "<tr><td>10</td><td>118</td><td>2</td></tr>",
                            "<tr><td>10</td><td>109</td><td>2</td></tr>",
                            "<tr><td>10</td><td>127</td><td>2</td></tr>",
                            "<tr><td>10</td><td>139</td><td>2</td></tr>",
                            "<tr><td>10</td><td>80</td><td>2</td></tr>",
                            "<tr><td>10</td><td>59</td><td>2</td></tr>",
                            "<tr><td>10</td><td>39</td><td>2</td></tr>",
                            "<tr><td>11</td><td>27</td><td>3</td></tr>",
                            "<tr><td>11</td><td>49</td><td>3</td></tr>",
                            "<tr><td>11</td><td>96</td><td>3</td></tr>",
                            "<tr><td>11</td><td>97</td><td>3</td></tr>",
                            "<tr><td>11</td><td>138</td><td>3</td></tr>",
                            "<tr><td>11</td><td>143</td><td>3</td></tr>",
                            "<tr><td>11</td><td>115</td><td>3</td></tr>",
                            "<tr><td>11</td><td>187</td><td>3</td></tr>",
                            "<tr><td>11</td><td>193</td><td>3</td></tr>",
                            "<tr><td>12</td><td>195</td><td>2</td></tr>",
                            "<tr><td>12</td><td>161</td><td>2</td></tr>",
                            "<tr><td>12</td><td>150</td><td>2</td></tr>",
                            "<tr><td>12</td><td>148</td><td>2</td></tr>",
                            "<tr><td>12</td><td>169</td><td>2</td></tr>",
                            "<tr><td>12</td><td>106</td><td>2</td></tr>",
                            "<tr><td>12</td><td>126</td><td>2</td></tr>",
                            "<tr><td>12</td><td>145</td><td>2</td></tr>",
                            "<tr><td>12</td><td>141</td><td>2</td></tr>",
                            "<tr><td>12</td><td>130</td><td>2</td></tr>",
                            "<tr><td>12</td><td>137</td><td>2</td></tr>",
                            "<tr><td>12</td><td>78</td><td>2</td></tr>",
                            "<tr><td>12</td><td>42</td><td>2</td></tr>",
                            "<tr><td>12</td><td>64</td><td>2</td></tr>",
                            "<tr><td>12</td><td>67</td><td>2</td></tr>",
                            "<tr><td>12</td><td>28</td><td>2</td></tr>",
                            "<tr><td>12</td><td>29</td><td>2</td></tr>",
                            "<tr><td>12</td><td>19</td><td>2</td></tr>",
                            "<tr><td>12</td><td>33</td><td>2</td></tr>",
                            "<tr><td>12</td><td>4</td><td>2</td></tr>",
                            "<tr><td>12</td><td>7</td><td>2</td></tr>",
                            "<tr><td>12</td><td>15</td><td>2</td></tr>",
                            "<tr><td>13</td><td>17</td><td>3</td></tr>",
                            "<tr><td>13</td><td>18</td><td>3</td></tr>",
                            "<tr><td>13</td><td>6</td><td>3</td></tr>",
                            "<tr><td>13</td><td>9</td><td>3</td></tr>",
                            "<tr><td>13</td><td>22</td><td>3</td></tr>",
                            "<tr><td>13</td><td>36</td><td>3</td></tr>",
                            "<tr><td>13</td><td>44</td><td>3</td></tr>",
                            "<tr><td>13</td><td>54</td><td>3</td></tr>",
                            "<tr><td>13</td><td>77</td><td>3</td></tr>",
                            "<tr><td>13</td><td>82</td><td>3</td></tr>",
                            "<tr><td>13</td><td>92</td><td>3</td></tr>",
                            "<tr><td>13</td><td>132</td><td>3</td></tr>",
                            "<tr><td>13</td><td>133</td><td>3</td></tr>",
                            "<tr><td>13</td><td>134</td><td>3</td></tr>",
                            "<tr><td>13</td><td>146</td><td>3</td></tr>",
                            "<tr><td>13</td><td>124</td><td>3</td></tr>",
                            "<tr><td>13</td><td>120</td><td>3</td></tr>",
                            "<tr><td>13</td><td>176</td><td>3</td></tr>",
                            "<tr><td>13</td><td>181</td><td>3</td></tr>",
                            "<tr><td>13</td><td>188</td><td>3</td></tr>",
                            "<tr><td>13</td><td>197</td><td>3</td></tr>",
                            "<tr><td>14</td><td>189</td><td>2</td></tr>",
                            "<tr><td>14</td><td>190</td><td>2</td></tr>",
                            "<tr><td>14</td><td>191</td><td>2</td></tr>",
                            "<tr><td>14</td><td>168</td><td>2</td></tr>",
                            "<tr><td>14</td><td>175</td><td>2</td></tr>",
                            "<tr><td>14</td><td>170</td><td>2</td></tr>",
                            "<tr><td>14</td><td>171</td><td>2</td></tr>",
                            "<tr><td>14</td><td>157</td><td>2</td></tr>",
                            "<tr><td>14</td><td>154</td><td>2</td></tr>",
                            "<tr><td>14</td><td>164</td><td>2</td></tr>",
                            "<tr><td>14</td><td>119</td><td>2</td></tr>",
                            "<tr><td>14</td><td>107</td><td>2</td></tr>",
                            "<tr><td>14</td><td>128</td><td>2</td></tr>",
                            "<tr><td>14</td><td>131</td><td>2</td></tr>",
                            "<tr><td>14</td><td>99</td><td>2</td></tr>",
                            "<tr><td>14</td><td>111</td><td>2</td></tr>",
                            "<tr><td>14</td><td>81</td><td>2</td></tr>",
                            "<tr><td>14</td><td>86</td><td>2</td></tr>",
                            "<tr><td>14</td><td>52</td><td>2</td></tr>",
                            "<tr><td>14</td><td>45</td><td>2</td></tr>",
                            "<tr><td>14</td><td>62</td><td>2</td></tr>",
                            "<tr><td>15</td><td>61</td><td>3</td></tr>",
                            "<tr><td>15</td><td>51</td><td>3</td></tr>",
                            "<tr><td>15</td><td>20</td><td>3</td></tr>",
                            "<tr><td>15</td><td>8</td><td>3</td></tr>",
                            "<tr><td>15</td><td>16</td><td>3</td></tr>",
                            "<tr><td>15</td><td>87</td><td>3</td></tr>",
                            "<tr><td>15</td><td>79</td><td>3</td></tr>",
                            "<tr><td>15</td><td>112</td><td>3</td></tr>",
                            "<tr><td>15</td><td>113</td><td>3</td></tr>",
                            "<tr><td>15</td><td>93</td><td>3</td></tr>",
                            "<tr><td>15</td><td>144</td><td>3</td></tr>",
                            "<tr><td>15</td><td>123</td><td>3</td></tr>",
                            "<tr><td>15</td><td>153</td><td>3</td></tr>",
                            "<tr><td>15</td><td>160</td><td>3</td></tr>",
                            "<tr><td>15</td><td>155</td><td>3</td></tr>",
                            "<tr><td>16</td><td>152</td><td>2</td></tr>",
                            "<tr><td>16</td><td>173</td><td>2</td></tr>",
                            "<tr><td>16</td><td>174</td><td>2</td></tr>",
                            "<tr><td>16</td><td>186</td><td>2</td></tr>",
                            "<tr><td>16</td><td>196</td><td>2</td></tr>",
                            "<tr><td>16</td><td>184</td><td>2</td></tr>",
                            "<tr><td>16</td><td>129</td><td>2</td></tr>",
                            "<tr><td>16</td><td>100</td><td>2</td></tr>",
                            "<tr><td>16</td><td>114</td><td>2</td></tr>",
                            "<tr><td>16</td><td>98</td><td>2</td></tr>",
                            "<tr><td>16</td><td>103</td><td>2</td></tr>",
                            "<tr><td>16</td><td>85</td><td>2</td></tr>",
                            "<tr><td>16</td><td>91</td><td>2</td></tr>",
                            "<tr><td>16</td><td>11</td><td>2</td></tr>",
                            "<tr><td>16</td><td>5</td><td>2</td></tr>",
                            "<tr><td>16</td><td>21</td><td>2</td></tr>",
                            "<tr><td>16</td><td>50</td><td>2</td></tr>",
                            "<tr><td>16</td><td>57</td><td>2</td></tr>",
                            "<tr><td>16</td><td>63</td><td>2</td></tr>",
                            "<tr><td>16</td><td>72</td><td>2</td></tr>",
                            "<tr><td>16</td><td>73</td><td>2</td></tr>",
                            "<tr><td>17</td><td>66</td><td>3</td></tr>",
                            "<tr><td>17</td><td>69</td><td>3</td></tr>",
                            "<tr><td>17</td><td>46</td><td>3</td></tr>",
                            "<tr><td>17</td><td>34</td><td>3</td></tr>",
                            "<tr><td>17</td><td>40</td><td>3</td></tr>",
                            "<tr><td>17</td><td>2</td><td>3</td></tr>",
                            "<tr><td>17</td><td>10</td><td>3</td></tr>",
                            "<tr><td>17</td><td>13</td><td>3</td></tr>",
                            "<tr><td>17</td><td>90</td><td>3</td></tr>",
                            "<tr><td>17</td><td>84</td><td>3</td></tr>",
                            "<tr><td>17</td><td>104</td><td>3</td></tr>",
                            "<tr><td>17</td><td>95</td><td>3</td></tr>",
                            "<tr><td>17</td><td>183</td><td>3</td></tr>",
                            "<tr><td>17</td><td>177</td><td>3</td></tr>",
                            "<tr><td>17</td><td>178</td><td>3</td></tr>",
                            "<tr><td>18</td><td>180</td><td>2</td></tr>",
                            "<tr><td>18</td><td>151</td><td>2</td></tr>",
                            "<tr><td>18</td><td>158</td><td>2</td></tr>",
                            "<tr><td>18</td><td>166</td><td>2</td></tr>",
                            "<tr><td>18</td><td>101</td><td>2</td></tr>",
                            "<tr><td>18</td><td>75</td><td>2</td></tr>",
                            "<tr><td>18</td><td>76</td><td>2</td></tr>",
                            "<tr><td>18</td><td>136</td><td>2</td></tr>",
                            "<tr><td>18</td><td>23</td><td>2</td></tr>",
                            "<tr><td>18</td><td>37</td><td>2</td></tr>",
                            "<tr><td>18</td><td>68</td><td>2</td></tr>",
                            "<tr><td>19</td><td>71</td><td>3</td></tr>",
                            "<tr><td>19</td><td>30</td><td>3</td></tr>",
                            "<tr><td>19</td><td>31</td><td>3</td></tr>",
                            "<tr><td>19</td><td>14</td><td>3</td></tr>",
                            "<tr><td>19</td><td>135</td><td>3</td></tr>",
                            "<tr><td>19</td><td>162</td><td>3</td></tr>",
                            "<tr><td>19</td><td>179</td><td>3</td></tr>",
                            "<tr><td>20</td><td>24</td><td>4</td></tr>",
                            "<tr><td>21</td><td>26</td><td>2</td></tr>",
                            "<tr><td>21</td><td>47</td><td>2</td></tr>",
                            "<tr><td>21</td><td>53</td><td>2</td></tr>",
                            "<tr><td>21</td><td>56</td><td>2</td></tr>",
                            "<tr><td>21</td><td>108</td><td>2</td></tr>",
                            "<tr><td>21</td><td>102</td><td>2</td></tr>",
                            "<tr><td>21</td><td>105</td><td>2</td></tr>",
                            "<tr><td>21</td><td>192</td><td>2</td></tr>",
                            "<tr><td>22</td><td>167</td><td>3</td></tr>",
                            "<tr><td>22</td><td>116</td><td>3</td></tr>",
                            "<tr><td>22</td><td>142</td><td>3</td></tr>",
                            "<tr><td>22</td><td>25</td><td>3</td></tr>",
                            "<tr><td>22</td><td>41</td><td>3</td></tr>",
                            "<tr><td>23</td><td>32</td><td>2</td></tr>",
                            "<tr><td>23</td><td>65</td><td>2</td></tr>",
                            "<tr><td>23</td><td>147</td><td>2</td></tr>",
                            "<tr><td>23</td><td>125</td><td>2</td></tr>",
                            "<tr><td>23</td><td>194</td><td>2</td></tr>",
                            "<tr><td>24</td><td>60</td><td>3</td></tr>",
                            "</table>"
                        ]
                    }
                }
            ],
            "execution_count": 11
        },
        {
            "cell_type": "code",
            "source": [
                "WITH SzallasFoglalasok AS (\r\n",
                "  SELECT \r\n",
                "    sz.SZALLAS_NEV,\r\n",
                "    SUM(f.FELNOTT_SZAM + f.GYERMEK_SZAM) AS OsszesFoglalas\r\n",
                "  FROM \r\n",
                "    Foglalas f\r\n",
                "    JOIN Szoba s ON f.SZOBA_FK = s.SZOBA_ID\r\n",
                "    JOIN Szallashely sz ON s.SZALLAS_FK = sz.szallas_id\r\n",
                "  GROUP BY \r\n",
                "    sz.SZALLAS_NEV\r\n",
                "),\r\n",
                "MinFoglalas AS (\r\n",
                "  SELECT \r\n",
                "    MIN(OsszesFoglalas) AS MinFoglalas\r\n",
                "  FROM \r\n",
                "    SzallasFoglalasok\r\n",
                ")\r\n",
                "SELECT \r\n",
                "  sf.SZALLAS_NEV, \r\n",
                "  sf.OsszesFoglalas\r\n",
                "FROM \r\n",
                "  SzallasFoglalasok sf\r\n",
                "  JOIN MinFoglalas mf ON sf.OsszesFoglalas = mf.MinFoglalas;\r\n",
                ""
            ],
            "metadata": {
                "azdata_cell_guid": "db8c20ef-80c2-443f-911c-86d11e50680d",
                "language": "sql"
            },
            "outputs": [
{
    "output_type": "display_data",
    "data": {
        "text/html": "(1 row affected)"
    },
    "metadata": {}
}, {
    "output_type": "display_data",
    "data": {
        "text/html": "Total execution time: 00:00:00.011"
    },
    "metadata": {}
}, {
    "output_type": "execute_result",
    "metadata": {},
    "execution_count": 12,
    "data": {
        "application/vnd.dataresource+json": {
            "schema": {
                "fields": [
                    {
                        "name": "SZALLAS_NEV"
                    },
                    {
                        "name": "OsszesFoglalas"
                    }
                ]
            },
            "data": [
                {
                    "SZALLAS_NEV": "Családi Ház",
                    "OsszesFoglalas": "52"
                }
            ]
        },
        "text/html": [
            "<table>",
            "<tr><th>SZALLAS_NEV</th><th>OsszesFoglalas</th></tr>",
            "<tr><td>Családi Ház</td><td>52</td></tr>",
            "</table>"
        ]
    }
}
],
            "execution_count": 12
        }
    ]
}